{
 "cells": [
  {
   "cell_type": "markdown",
   "id": "14a2e542",
   "metadata": {},
   "source": [
    "# CODIGO DE RE-ENTRENAMIENTO SOFT"
   ]
  },
  {
   "cell_type": "markdown",
   "id": "3b1d38cc",
   "metadata": {},
   "source": [
    "*NOTA: Para poder usar este código de entrenamiento hay que lanzarlo desde exactamente el mismo entorno en el que fue creado.*\n",
    "\n",
    "*Se puede instalar ese entorno en la nueva máquina usando el environment.yml que creamos en el set up del proyecto*\n",
    "\n",
    "*Copiar el environment.yml que tenemos en la carpeta Documentos, al directorio y en anaconda prompt ejecutar:*\n",
    "\n",
    "conda env create --file environment.yml --name proyecto1\n",
    "\n",
    "* environment.yml --> Nombre del proyecto: lead_scoring.yml\n",
    "* name proyecto1 --> Nombre del proyecto: lead_scoring"
   ]
  },
  {
   "cell_type": "code",
   "execution_count": 3,
   "id": "a2dcb37f",
   "metadata": {},
   "outputs": [],
   "source": [
    "#Reentrenamiento SOFT: Aplica las mismas transformaciones de Pandas y de sklearn y mismo modelo configurado como lo dejamos\n",
    "#a las mismas variables que decidimos que eran buenas cuando realizamos el proyecto\n",
    "\n",
    "#Reentrenamiento HARD: Habría que hacer todo el proceso completo de análisis y transformaciones que hemos hecho en todos las\n",
    "#plantillas tomando todas las decisiones que habíamos tomado anteriormente \n",
    "\n",
    "#Importamos los paquetes necesarios\n",
    "import numpy as np\n",
    "import pandas as pd\n",
    "import cloudpickle\n",
    "\n",
    "#Representación visual de un pipeline\n",
    "from sklearn import set_config\n",
    "set_config(display = 'text') #Formatos: 'diagram' o 'text'\n",
    "\n",
    "#Estos paquetes cambiarán según el desarrollo que hayamos hecho\n",
    "from janitor import clean_names\n",
    "\n",
    "from sklearn.preprocessing import OneHotEncoder\n",
    "from sklearn.preprocessing import OrdinalEncoder\n",
    "from sklearn.preprocessing import TargetEncoder\n",
    "from sklearn.preprocessing import KBinsDiscretizer\n",
    "from sklearn.preprocessing import Binarizer\n",
    "from sklearn.preprocessing import PowerTransformer\n",
    "from sklearn.preprocessing import QuantileTransformer\n",
    "from sklearn.preprocessing import MinMaxScaler\n",
    "from sklearn.preprocessing import StandardScaler\n",
    "from sklearn.preprocessing import RobustScaler\n",
    "\n",
    "from xgboost import XGBClassifier\n",
    "\n",
    "\n",
    "ruta_proyecto = 'C:/Users/Oscar/OneDrive - FM4/Escritorio/Python Data Mastery/EstructuraDirectorio/03_MACHINE_LEARNING/08_CASOS/001_LEAD SCORING'\n",
    "\n",
    "nombre_fichero_datos = 'Leads.csv'\n",
    "\n",
    "ruta_completa = ruta_proyecto + '/02_Datos/01_Originales/' + nombre_fichero_datos\n",
    "\n",
    "df = pd.read_csv(ruta_completa,sep=';',index_col=0)\n",
    "\n",
    "df = df.drop_duplicates()\\\n",
    "    .loc[(df['no_enviar_email']!='Yes') & (df['no_llamar']!='OTROS') & (df['ult_actividad']!='Email Bounced')]\\\n",
    "    .dropna(thresh=3)\n",
    "\n",
    "variables_finales = ['ambito',\n",
    "                     'descarga_lm',\n",
    "                     'fuente',\n",
    "                     'ocupacion',\n",
    "                     'origen',\n",
    "                     'paginas_vistas_visita',\n",
    "                     'score_actividad',\n",
    "                     'score_perfil',\n",
    "                     'tiempo_en_site_total',\n",
    "                     'ult_actividad',\n",
    "                     'visitas_total']\n",
    "target = 'compra'\n",
    "\n",
    "x = df[variables_finales].copy()\n",
    "\n",
    "y = df[target].copy()\n",
    "\n",
    "nombre_pipe_entrenamiento = 'pipe_entrenamiento.pickle'\n",
    "\n",
    "ruta_pipe_entrenamiento = ruta_proyecto + '/04_Modelos/' + nombre_pipe_entrenamiento\n",
    "\n",
    "with open(ruta_pipe_entrenamiento, mode='rb') as file:\n",
    "   pipe_entrenamiento = cloudpickle.load(file)\n",
    "\n",
    "pipe_ejecucion = pipe_entrenamiento.fit(x,y)\n",
    "\n",
    "nombre_pipe_ejecucion = 'pipe_ejecucion.pickle'\n",
    "\n",
    "ruta_pipe_ejecucion = ruta_proyecto + '/04_Modelos/' + nombre_pipe_ejecucion\n",
    "\n",
    "with open(ruta_pipe_ejecucion, mode='wb') as file:\n",
    "   cloudpickle.dump(pipe_ejecucion, file)"
   ]
  },
  {
   "cell_type": "code",
   "execution_count": 4,
   "id": "6b01a08b",
   "metadata": {},
   "outputs": [
    {
     "data": {
      "text/plain": [
       "Pipeline(steps=[('pipeline',\n",
       "                 Pipeline(steps=[('functiontransformer',\n",
       "                                  FunctionTransformer(func=<function calidad_datos at 0x000002806BF14D60>)),\n",
       "                                 ('columntransformer',\n",
       "                                  ColumnTransformer(transformers=[('onehotencoder',\n",
       "                                                                   OneHotEncoder(handle_unknown='ignore',\n",
       "                                                                                 sparse_output=False),\n",
       "                                                                   ['origen',\n",
       "                                                                    'fuente',\n",
       "                                                                    'ult_actividad',\n",
       "                                                                    'ambito',\n",
       "                                                                    'ocupacion',\n",
       "                                                                    'descarga_lm']),\n",
       "                                                                  ('minmaxsca...\n",
       "                               feature_types=None, gamma=None, grow_policy=None,\n",
       "                               importance_type=None,\n",
       "                               interaction_constraints=None, learning_rate=0.01,\n",
       "                               max_bin=None, max_cat_threshold=None,\n",
       "                               max_cat_to_onehot=None, max_delta_step=None,\n",
       "                               max_depth=5, max_leaves=None,\n",
       "                               min_child_weight=None, missing=nan,\n",
       "                               monotone_constraints=None, multi_strategy=None,\n",
       "                               n_estimators=500, n_jobs=-1,\n",
       "                               num_parallel_tree=None, random_state=None, ...))])"
      ]
     },
     "execution_count": 4,
     "metadata": {},
     "output_type": "execute_result"
    }
   ],
   "source": [
    "pipe_ejecucion\n",
    "#Nos saldría todo el esquema del pipeline completo"
   ]
  },
  {
   "cell_type": "code",
   "execution_count": null,
   "id": "c3c1b7c6",
   "metadata": {},
   "outputs": [],
   "source": []
  }
 ],
 "metadata": {
  "kernelspec": {
   "display_name": "Python 3 (ipykernel)",
   "language": "python",
   "name": "python3"
  },
  "language_info": {
   "codemirror_mode": {
    "name": "ipython",
    "version": 3
   },
   "file_extension": ".py",
   "mimetype": "text/x-python",
   "name": "python",
   "nbconvert_exporter": "python",
   "pygments_lexer": "ipython3",
   "version": "3.11.11"
  },
  "toc": {
   "base_numbering": 1,
   "nav_menu": {},
   "number_sections": true,
   "sideBar": true,
   "skip_h1_title": false,
   "title_cell": "Table of Contents",
   "title_sidebar": "Contents",
   "toc_cell": false,
   "toc_position": {
    "height": "calc(100% - 180px)",
    "left": "10px",
    "top": "150px",
    "width": "193.5px"
   },
   "toc_section_display": true,
   "toc_window_display": false
  },
  "varInspector": {
   "cols": {
    "lenName": 16,
    "lenType": 16,
    "lenVar": 40
   },
   "kernels_config": {
    "python": {
     "delete_cmd_postfix": "",
     "delete_cmd_prefix": "del ",
     "library": "var_list.py",
     "varRefreshCmd": "print(var_dic_list())"
    },
    "r": {
     "delete_cmd_postfix": ") ",
     "delete_cmd_prefix": "rm(",
     "library": "var_list.r",
     "varRefreshCmd": "cat(var_dic_list()) "
    }
   },
   "position": {
    "height": "388.85px",
    "left": "1070px",
    "right": "20px",
    "top": "120px",
    "width": "350px"
   },
   "types_to_exclude": [
    "module",
    "function",
    "builtin_function_or_method",
    "instance",
    "_Feature"
   ],
   "window_display": false
  }
 },
 "nbformat": 4,
 "nbformat_minor": 5
}
