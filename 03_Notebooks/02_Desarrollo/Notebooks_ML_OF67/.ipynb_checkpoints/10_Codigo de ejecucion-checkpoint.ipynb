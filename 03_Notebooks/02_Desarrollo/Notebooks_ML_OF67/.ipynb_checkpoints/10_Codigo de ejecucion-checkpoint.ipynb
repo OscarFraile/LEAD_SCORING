{
 "cells": [
  {
   "cell_type": "markdown",
   "id": "857181a3",
   "metadata": {},
   "source": [
    "# CODIGO DE EJECUCIÓN"
   ]
  },
  {
   "cell_type": "markdown",
   "id": "e84c4121",
   "metadata": {},
   "source": [
    "*NOTA: Para poder usar este código de ejecución hay que lanzarlo desde exactamente el mismo entorno en el que fue creado.*\n",
    "\n",
    "*Se puede instalar ese entorno en la nueva máquina usando el environment.yml que creamos en el set up del proyecto*\n",
    "\n",
    "*Copiar el environment.yml que tenemos en la carpeta Documentos, al directorio y en anaconda prompt ejecutar:*\n",
    "\n",
    "conda env create --file environment.yml --name proyecto1\n",
    "\n",
    "* environment.yml --> Nombre del proyecto: lead_scoring.yml\n",
    "* name proyecto1 --> Nombre del proyecto: lead_scoring"
   ]
  },
  {
   "cell_type": "code",
   "execution_count": 5,
   "id": "09f3a4c4",
   "metadata": {},
   "outputs": [],
   "source": [
    "#Importamos los paquetes necesarios\n",
    "import cloudpickle\n",
    "import pandas as pd\n",
    "from janitor import clean_names\n",
    "\n",
    "ruta_proyecto = 'C:/Users/Oscar/OneDrive - FM4/Escritorio/Python Data Mastery/EstructuraDirectorio/03_MACHINE_LEARNING/08_CASOS/001_LEAD SCORING'\n",
    "\n",
    "nombre_fichero_datos = 'validacion.csv'\n",
    "\n",
    "ruta_completa = ruta_proyecto + '/02_Datos/02_Validacion/' + nombre_fichero_datos\n",
    "\n",
    "#Cuidado con los separadores de los datos en el .csv\n",
    "df = pd.read_csv(ruta_completa,sep=',',index_col=0)\n",
    "\n",
    "df = df.drop_duplicates()\\\n",
    "    .loc[(df['no_enviar_email']!='Yes') & (df['no_llamar']!='OTROS') & (df['ult_actividad']!='Email Bounced')]\\\n",
    "    .dropna(thresh=3)\n",
    "\n",
    "variables_finales = ['ambito',\n",
    "                     'descarga_lm',\n",
    "                     'fuente',\n",
    "                     'ocupacion',\n",
    "                     'origen',\n",
    "                     'paginas_vistas_visita',\n",
    "                     'score_actividad',\n",
    "                     'score_perfil',\n",
    "                     'tiempo_en_site_total',\n",
    "                     'ult_actividad',\n",
    "                     'visitas_total']\n",
    "                     \n",
    "df = df[variables_finales]\n",
    "\n",
    "nombre_pipe_ejecucion = 'pipe_ejecucion.pickle'\n",
    "\n",
    "ruta_pipe_ejecucion = ruta_proyecto + '/04_Modelos/' + nombre_pipe_ejecucion\n",
    "\n",
    "with open(ruta_pipe_ejecucion, mode='rb') as file:\n",
    "   pipe_ejecucion = cloudpickle.load(file)\n",
    "\n",
    "scoring = pipe_ejecucion.predict_proba(df)[:, 1]"
   ]
  },
  {
   "cell_type": "code",
   "execution_count": 6,
   "id": "3475b91f",
   "metadata": {},
   "outputs": [
    {
     "data": {
      "text/plain": [
       "array([0.04383994, 0.7248832 , 0.7631666 , ..., 0.12450939, 0.09845927,\n",
       "       0.97486794], dtype=float32)"
      ]
     },
     "execution_count": 6,
     "metadata": {},
     "output_type": "execute_result"
    }
   ],
   "source": [
    "scoring"
   ]
  },
  {
   "cell_type": "markdown",
   "id": "9e82c352",
   "metadata": {},
   "source": [
    "Este es el código final de producción que pasaremos al informático para su aplicación. \n",
    "\n",
    "Podemos pasarlo en formato notebook o formato Python descargándolo en 'File/Download as/Python (.py)'"
   ]
  }
 ],
 "metadata": {
  "kernelspec": {
   "display_name": "Python 3 (ipykernel)",
   "language": "python",
   "name": "python3"
  },
  "language_info": {
   "codemirror_mode": {
    "name": "ipython",
    "version": 3
   },
   "file_extension": ".py",
   "mimetype": "text/x-python",
   "name": "python",
   "nbconvert_exporter": "python",
   "pygments_lexer": "ipython3",
   "version": "3.11.11"
  },
  "toc": {
   "base_numbering": 1,
   "nav_menu": {},
   "number_sections": true,
   "sideBar": true,
   "skip_h1_title": false,
   "title_cell": "Table of Contents",
   "title_sidebar": "Contents",
   "toc_cell": false,
   "toc_position": {},
   "toc_section_display": true,
   "toc_window_display": false
  },
  "varInspector": {
   "cols": {
    "lenName": 16,
    "lenType": 16,
    "lenVar": 40
   },
   "kernels_config": {
    "python": {
     "delete_cmd_postfix": "",
     "delete_cmd_prefix": "del ",
     "library": "var_list.py",
     "varRefreshCmd": "print(var_dic_list())"
    },
    "r": {
     "delete_cmd_postfix": ") ",
     "delete_cmd_prefix": "rm(",
     "library": "var_list.r",
     "varRefreshCmd": "cat(var_dic_list()) "
    }
   },
   "position": {
    "height": "388.85px",
    "left": "1070px",
    "right": "20px",
    "top": "120px",
    "width": "350px"
   },
   "types_to_exclude": [
    "module",
    "function",
    "builtin_function_or_method",
    "instance",
    "_Feature"
   ],
   "window_display": false
  }
 },
 "nbformat": 4,
 "nbformat_minor": 5
}
