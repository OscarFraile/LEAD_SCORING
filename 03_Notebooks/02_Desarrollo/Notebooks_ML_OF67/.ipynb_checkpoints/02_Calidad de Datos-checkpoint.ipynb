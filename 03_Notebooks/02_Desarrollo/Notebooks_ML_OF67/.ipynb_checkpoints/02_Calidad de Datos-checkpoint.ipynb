{
 "cells": [
  {
   "cell_type": "markdown",
   "id": "d31dea65",
   "metadata": {},
   "source": [
    "# CALIDAD DE DATOS"
   ]
  },
  {
   "cell_type": "markdown",
   "id": "swiss-fault",
   "metadata": {},
   "source": [
    "## 1. IMPORTAR PAQUETES"
   ]
  },
  {
   "cell_type": "code",
   "execution_count": 1,
   "id": "adjacent-toddler",
   "metadata": {},
   "outputs": [],
   "source": [
    "import numpy as np\n",
    "import pandas as pd\n",
    "from janitor import clean_names\n",
    "\n",
    "#Automcompletar rápido\n",
    "%config IPCompleter.greedy=True"
   ]
  },
  {
   "cell_type": "markdown",
   "id": "graduate-compensation",
   "metadata": {},
   "source": [
    "## 2. IMPORTAR LOS DATOS"
   ]
  },
  {
   "cell_type": "markdown",
   "id": "38bb812b",
   "metadata": {},
   "source": [
    "Sustituir la ruta del proyecto."
   ]
  },
  {
   "cell_type": "code",
   "execution_count": 2,
   "id": "28c63848",
   "metadata": {},
   "outputs": [],
   "source": [
    "ruta_proyecto = 'C:/Users/Oscar/OneDrive - FM4/Escritorio/Python Data Mastery/EstructuraDirectorio/03_MACHINE_LEARNING/08_CASOS/001_LEAD SCORING'"
   ]
  },
  {
   "cell_type": "markdown",
   "id": "ba473b09",
   "metadata": {},
   "source": [
    "Sustituir el nombre_fichero_datos."
   ]
  },
  {
   "cell_type": "code",
   "execution_count": 3,
   "id": "5d9dc5ea",
   "metadata": {},
   "outputs": [],
   "source": [
    "nombre_fichero_datos = 'trabajo.csv'\n",
    "#Lo normal es hacer el proyecto con 'muestra' pero, en este caso solamente tenemos 9093 registros por lo que no haremos \n",
    "#muestra y haremos el proyecto con 'trabajo' "
   ]
  },
  {
   "cell_type": "markdown",
   "id": "ae75bf0b",
   "metadata": {},
   "source": [
    "Cargar los datos."
   ]
  },
  {
   "cell_type": "code",
   "execution_count": 4,
   "id": "24ff453b",
   "metadata": {},
   "outputs": [
    {
     "data": {
      "text/html": [
       "<div>\n",
       "<style scoped>\n",
       "    .dataframe tbody tr th:only-of-type {\n",
       "        vertical-align: middle;\n",
       "    }\n",
       "\n",
       "    .dataframe tbody tr th {\n",
       "        vertical-align: top;\n",
       "    }\n",
       "\n",
       "    .dataframe thead th {\n",
       "        text-align: right;\n",
       "    }\n",
       "</style>\n",
       "<table border=\"1\" class=\"dataframe\">\n",
       "  <thead>\n",
       "    <tr style=\"text-align: right;\">\n",
       "      <th></th>\n",
       "      <th>origen</th>\n",
       "      <th>fuente</th>\n",
       "      <th>no_enviar_email</th>\n",
       "      <th>no_llamar</th>\n",
       "      <th>compra</th>\n",
       "      <th>visitas_total</th>\n",
       "      <th>tiempo_en_site_total</th>\n",
       "      <th>paginas_vistas_visita</th>\n",
       "      <th>ult_actividad</th>\n",
       "      <th>ambito</th>\n",
       "      <th>ocupacion</th>\n",
       "      <th>conociste_google</th>\n",
       "      <th>conociste_revista</th>\n",
       "      <th>conociste_periodico</th>\n",
       "      <th>conociste_youtube</th>\n",
       "      <th>conociste_facebook</th>\n",
       "      <th>conociste_referencias</th>\n",
       "      <th>score_actividad</th>\n",
       "      <th>score_perfil</th>\n",
       "      <th>descarga_lm</th>\n",
       "    </tr>\n",
       "    <tr>\n",
       "      <th>id</th>\n",
       "      <th></th>\n",
       "      <th></th>\n",
       "      <th></th>\n",
       "      <th></th>\n",
       "      <th></th>\n",
       "      <th></th>\n",
       "      <th></th>\n",
       "      <th></th>\n",
       "      <th></th>\n",
       "      <th></th>\n",
       "      <th></th>\n",
       "      <th></th>\n",
       "      <th></th>\n",
       "      <th></th>\n",
       "      <th></th>\n",
       "      <th></th>\n",
       "      <th></th>\n",
       "      <th></th>\n",
       "      <th></th>\n",
       "      <th></th>\n",
       "    </tr>\n",
       "  </thead>\n",
       "  <tbody>\n",
       "    <tr>\n",
       "      <th>660728</th>\n",
       "      <td>API</td>\n",
       "      <td>Organic Search</td>\n",
       "      <td>No</td>\n",
       "      <td>No</td>\n",
       "      <td>0</td>\n",
       "      <td>5.0</td>\n",
       "      <td>674</td>\n",
       "      <td>2.50</td>\n",
       "      <td>Email Opened</td>\n",
       "      <td>Select</td>\n",
       "      <td>Unemployed</td>\n",
       "      <td>No</td>\n",
       "      <td>No</td>\n",
       "      <td>No</td>\n",
       "      <td>No</td>\n",
       "      <td>No</td>\n",
       "      <td>No</td>\n",
       "      <td>15.0</td>\n",
       "      <td>15.0</td>\n",
       "      <td>No</td>\n",
       "    </tr>\n",
       "    <tr>\n",
       "      <th>660727</th>\n",
       "      <td>Landing Page Submission</td>\n",
       "      <td>Direct Traffic</td>\n",
       "      <td>No</td>\n",
       "      <td>No</td>\n",
       "      <td>1</td>\n",
       "      <td>2.0</td>\n",
       "      <td>1532</td>\n",
       "      <td>2.00</td>\n",
       "      <td>Email Opened</td>\n",
       "      <td>Business Administration</td>\n",
       "      <td>Student</td>\n",
       "      <td>No</td>\n",
       "      <td>No</td>\n",
       "      <td>No</td>\n",
       "      <td>No</td>\n",
       "      <td>No</td>\n",
       "      <td>No</td>\n",
       "      <td>14.0</td>\n",
       "      <td>20.0</td>\n",
       "      <td>Yes</td>\n",
       "    </tr>\n",
       "    <tr>\n",
       "      <th>660719</th>\n",
       "      <td>Landing Page Submission</td>\n",
       "      <td>Direct Traffic</td>\n",
       "      <td>No</td>\n",
       "      <td>No</td>\n",
       "      <td>0</td>\n",
       "      <td>1.0</td>\n",
       "      <td>305</td>\n",
       "      <td>1.00</td>\n",
       "      <td>Unreachable</td>\n",
       "      <td>Media and Advertising</td>\n",
       "      <td>Unemployed</td>\n",
       "      <td>No</td>\n",
       "      <td>No</td>\n",
       "      <td>No</td>\n",
       "      <td>No</td>\n",
       "      <td>No</td>\n",
       "      <td>No</td>\n",
       "      <td>13.0</td>\n",
       "      <td>17.0</td>\n",
       "      <td>No</td>\n",
       "    </tr>\n",
       "    <tr>\n",
       "      <th>660681</th>\n",
       "      <td>Landing Page Submission</td>\n",
       "      <td>Google</td>\n",
       "      <td>No</td>\n",
       "      <td>No</td>\n",
       "      <td>1</td>\n",
       "      <td>2.0</td>\n",
       "      <td>1428</td>\n",
       "      <td>1.00</td>\n",
       "      <td>Converted to Lead</td>\n",
       "      <td>Select</td>\n",
       "      <td>Unemployed</td>\n",
       "      <td>No</td>\n",
       "      <td>No</td>\n",
       "      <td>No</td>\n",
       "      <td>No</td>\n",
       "      <td>No</td>\n",
       "      <td>No</td>\n",
       "      <td>15.0</td>\n",
       "      <td>18.0</td>\n",
       "      <td>No</td>\n",
       "    </tr>\n",
       "    <tr>\n",
       "      <th>660673</th>\n",
       "      <td>Landing Page Submission</td>\n",
       "      <td>Google</td>\n",
       "      <td>No</td>\n",
       "      <td>No</td>\n",
       "      <td>1</td>\n",
       "      <td>2.0</td>\n",
       "      <td>1640</td>\n",
       "      <td>2.00</td>\n",
       "      <td>Email Opened</td>\n",
       "      <td>Supply Chain Management</td>\n",
       "      <td>Unemployed</td>\n",
       "      <td>No</td>\n",
       "      <td>No</td>\n",
       "      <td>No</td>\n",
       "      <td>No</td>\n",
       "      <td>No</td>\n",
       "      <td>No</td>\n",
       "      <td>14.0</td>\n",
       "      <td>20.0</td>\n",
       "      <td>No</td>\n",
       "    </tr>\n",
       "    <tr>\n",
       "      <th>...</th>\n",
       "      <td>...</td>\n",
       "      <td>...</td>\n",
       "      <td>...</td>\n",
       "      <td>...</td>\n",
       "      <td>...</td>\n",
       "      <td>...</td>\n",
       "      <td>...</td>\n",
       "      <td>...</td>\n",
       "      <td>...</td>\n",
       "      <td>...</td>\n",
       "      <td>...</td>\n",
       "      <td>...</td>\n",
       "      <td>...</td>\n",
       "      <td>...</td>\n",
       "      <td>...</td>\n",
       "      <td>...</td>\n",
       "      <td>...</td>\n",
       "      <td>...</td>\n",
       "      <td>...</td>\n",
       "      <td>...</td>\n",
       "    </tr>\n",
       "    <tr>\n",
       "      <th>579564</th>\n",
       "      <td>Landing Page Submission</td>\n",
       "      <td>Direct Traffic</td>\n",
       "      <td>Yes</td>\n",
       "      <td>No</td>\n",
       "      <td>1</td>\n",
       "      <td>8.0</td>\n",
       "      <td>1845</td>\n",
       "      <td>2.67</td>\n",
       "      <td>Email Marked Spam</td>\n",
       "      <td>IT Projects Management</td>\n",
       "      <td>Unemployed</td>\n",
       "      <td>No</td>\n",
       "      <td>No</td>\n",
       "      <td>No</td>\n",
       "      <td>No</td>\n",
       "      <td>No</td>\n",
       "      <td>No</td>\n",
       "      <td>15.0</td>\n",
       "      <td>17.0</td>\n",
       "      <td>No</td>\n",
       "    </tr>\n",
       "    <tr>\n",
       "      <th>579546</th>\n",
       "      <td>Landing Page Submission</td>\n",
       "      <td>Direct Traffic</td>\n",
       "      <td>No</td>\n",
       "      <td>No</td>\n",
       "      <td>0</td>\n",
       "      <td>2.0</td>\n",
       "      <td>238</td>\n",
       "      <td>2.00</td>\n",
       "      <td>SMS Sent</td>\n",
       "      <td>Media and Advertising</td>\n",
       "      <td>Unemployed</td>\n",
       "      <td>No</td>\n",
       "      <td>No</td>\n",
       "      <td>No</td>\n",
       "      <td>No</td>\n",
       "      <td>No</td>\n",
       "      <td>No</td>\n",
       "      <td>14.0</td>\n",
       "      <td>19.0</td>\n",
       "      <td>Yes</td>\n",
       "    </tr>\n",
       "    <tr>\n",
       "      <th>579545</th>\n",
       "      <td>Landing Page Submission</td>\n",
       "      <td>Direct Traffic</td>\n",
       "      <td>Yes</td>\n",
       "      <td>No</td>\n",
       "      <td>0</td>\n",
       "      <td>2.0</td>\n",
       "      <td>199</td>\n",
       "      <td>2.00</td>\n",
       "      <td>SMS Sent</td>\n",
       "      <td>Business Administration</td>\n",
       "      <td>Unemployed</td>\n",
       "      <td>No</td>\n",
       "      <td>No</td>\n",
       "      <td>No</td>\n",
       "      <td>No</td>\n",
       "      <td>No</td>\n",
       "      <td>No</td>\n",
       "      <td>13.0</td>\n",
       "      <td>20.0</td>\n",
       "      <td>Yes</td>\n",
       "    </tr>\n",
       "    <tr>\n",
       "      <th>579538</th>\n",
       "      <td>Landing Page Submission</td>\n",
       "      <td>Google</td>\n",
       "      <td>No</td>\n",
       "      <td>No</td>\n",
       "      <td>1</td>\n",
       "      <td>3.0</td>\n",
       "      <td>499</td>\n",
       "      <td>3.00</td>\n",
       "      <td>SMS Sent</td>\n",
       "      <td>Human Resource Management</td>\n",
       "      <td>NaN</td>\n",
       "      <td>No</td>\n",
       "      <td>No</td>\n",
       "      <td>No</td>\n",
       "      <td>No</td>\n",
       "      <td>No</td>\n",
       "      <td>No</td>\n",
       "      <td>15.0</td>\n",
       "      <td>16.0</td>\n",
       "      <td>No</td>\n",
       "    </tr>\n",
       "    <tr>\n",
       "      <th>579533</th>\n",
       "      <td>Landing Page Submission</td>\n",
       "      <td>Direct Traffic</td>\n",
       "      <td>No</td>\n",
       "      <td>No</td>\n",
       "      <td>1</td>\n",
       "      <td>6.0</td>\n",
       "      <td>1279</td>\n",
       "      <td>3.00</td>\n",
       "      <td>SMS Sent</td>\n",
       "      <td>Supply Chain Management</td>\n",
       "      <td>Unemployed</td>\n",
       "      <td>No</td>\n",
       "      <td>No</td>\n",
       "      <td>No</td>\n",
       "      <td>No</td>\n",
       "      <td>No</td>\n",
       "      <td>No</td>\n",
       "      <td>15.0</td>\n",
       "      <td>18.0</td>\n",
       "      <td>Yes</td>\n",
       "    </tr>\n",
       "  </tbody>\n",
       "</table>\n",
       "<p>6365 rows × 20 columns</p>\n",
       "</div>"
      ],
      "text/plain": [
       "                         origen          fuente no_enviar_email no_llamar  \\\n",
       "id                                                                          \n",
       "660728                      API  Organic Search              No        No   \n",
       "660727  Landing Page Submission  Direct Traffic              No        No   \n",
       "660719  Landing Page Submission  Direct Traffic              No        No   \n",
       "660681  Landing Page Submission          Google              No        No   \n",
       "660673  Landing Page Submission          Google              No        No   \n",
       "...                         ...             ...             ...       ...   \n",
       "579564  Landing Page Submission  Direct Traffic             Yes        No   \n",
       "579546  Landing Page Submission  Direct Traffic              No        No   \n",
       "579545  Landing Page Submission  Direct Traffic             Yes        No   \n",
       "579538  Landing Page Submission          Google              No        No   \n",
       "579533  Landing Page Submission  Direct Traffic              No        No   \n",
       "\n",
       "        compra  visitas_total  tiempo_en_site_total  paginas_vistas_visita  \\\n",
       "id                                                                           \n",
       "660728       0            5.0                   674                   2.50   \n",
       "660727       1            2.0                  1532                   2.00   \n",
       "660719       0            1.0                   305                   1.00   \n",
       "660681       1            2.0                  1428                   1.00   \n",
       "660673       1            2.0                  1640                   2.00   \n",
       "...        ...            ...                   ...                    ...   \n",
       "579564       1            8.0                  1845                   2.67   \n",
       "579546       0            2.0                   238                   2.00   \n",
       "579545       0            2.0                   199                   2.00   \n",
       "579538       1            3.0                   499                   3.00   \n",
       "579533       1            6.0                  1279                   3.00   \n",
       "\n",
       "            ult_actividad                     ambito   ocupacion  \\\n",
       "id                                                                 \n",
       "660728       Email Opened                     Select  Unemployed   \n",
       "660727       Email Opened    Business Administration     Student   \n",
       "660719        Unreachable      Media and Advertising  Unemployed   \n",
       "660681  Converted to Lead                     Select  Unemployed   \n",
       "660673       Email Opened    Supply Chain Management  Unemployed   \n",
       "...                   ...                        ...         ...   \n",
       "579564  Email Marked Spam     IT Projects Management  Unemployed   \n",
       "579546           SMS Sent      Media and Advertising  Unemployed   \n",
       "579545           SMS Sent    Business Administration  Unemployed   \n",
       "579538           SMS Sent  Human Resource Management         NaN   \n",
       "579533           SMS Sent    Supply Chain Management  Unemployed   \n",
       "\n",
       "       conociste_google conociste_revista conociste_periodico  \\\n",
       "id                                                              \n",
       "660728               No                No                  No   \n",
       "660727               No                No                  No   \n",
       "660719               No                No                  No   \n",
       "660681               No                No                  No   \n",
       "660673               No                No                  No   \n",
       "...                 ...               ...                 ...   \n",
       "579564               No                No                  No   \n",
       "579546               No                No                  No   \n",
       "579545               No                No                  No   \n",
       "579538               No                No                  No   \n",
       "579533               No                No                  No   \n",
       "\n",
       "       conociste_youtube conociste_facebook conociste_referencias  \\\n",
       "id                                                                  \n",
       "660728                No                 No                    No   \n",
       "660727                No                 No                    No   \n",
       "660719                No                 No                    No   \n",
       "660681                No                 No                    No   \n",
       "660673                No                 No                    No   \n",
       "...                  ...                ...                   ...   \n",
       "579564                No                 No                    No   \n",
       "579546                No                 No                    No   \n",
       "579545                No                 No                    No   \n",
       "579538                No                 No                    No   \n",
       "579533                No                 No                    No   \n",
       "\n",
       "        score_actividad  score_perfil descarga_lm  \n",
       "id                                                 \n",
       "660728             15.0          15.0          No  \n",
       "660727             14.0          20.0         Yes  \n",
       "660719             13.0          17.0          No  \n",
       "660681             15.0          18.0          No  \n",
       "660673             14.0          20.0          No  \n",
       "...                 ...           ...         ...  \n",
       "579564             15.0          17.0          No  \n",
       "579546             14.0          19.0         Yes  \n",
       "579545             13.0          20.0         Yes  \n",
       "579538             15.0          16.0          No  \n",
       "579533             15.0          18.0         Yes  \n",
       "\n",
       "[6365 rows x 20 columns]"
      ]
     },
     "execution_count": 4,
     "metadata": {},
     "output_type": "execute_result"
    }
   ],
   "source": [
    "ruta_completa = ruta_proyecto + '/02_Datos/03_Trabajo/' + nombre_fichero_datos\n",
    "\n",
    "df = pd.read_csv(ruta_completa,index_col=0)\n",
    "df"
   ]
  },
  {
   "cell_type": "markdown",
   "id": "9790d322",
   "metadata": {},
   "source": [
    "## 3. CORRECCIÓN DE NOMBRES DE VARIABLES"
   ]
  },
  {
   "cell_type": "markdown",
   "id": "f1fa5201",
   "metadata": {},
   "source": [
    "### 3.1. Corrección automática"
   ]
  },
  {
   "cell_type": "code",
   "execution_count": 5,
   "id": "02607b69",
   "metadata": {},
   "outputs": [
    {
     "data": {
      "text/html": [
       "<div>\n",
       "<style scoped>\n",
       "    .dataframe tbody tr th:only-of-type {\n",
       "        vertical-align: middle;\n",
       "    }\n",
       "\n",
       "    .dataframe tbody tr th {\n",
       "        vertical-align: top;\n",
       "    }\n",
       "\n",
       "    .dataframe thead th {\n",
       "        text-align: right;\n",
       "    }\n",
       "</style>\n",
       "<table border=\"1\" class=\"dataframe\">\n",
       "  <thead>\n",
       "    <tr style=\"text-align: right;\">\n",
       "      <th></th>\n",
       "      <th>origen</th>\n",
       "      <th>fuente</th>\n",
       "      <th>no_enviar_email</th>\n",
       "      <th>no_llamar</th>\n",
       "      <th>compra</th>\n",
       "      <th>visitas_total</th>\n",
       "      <th>tiempo_en_site_total</th>\n",
       "      <th>paginas_vistas_visita</th>\n",
       "      <th>ult_actividad</th>\n",
       "      <th>ambito</th>\n",
       "      <th>ocupacion</th>\n",
       "      <th>conociste_google</th>\n",
       "      <th>conociste_revista</th>\n",
       "      <th>conociste_periodico</th>\n",
       "      <th>conociste_youtube</th>\n",
       "      <th>conociste_facebook</th>\n",
       "      <th>conociste_referencias</th>\n",
       "      <th>score_actividad</th>\n",
       "      <th>score_perfil</th>\n",
       "      <th>descarga_lm</th>\n",
       "    </tr>\n",
       "    <tr>\n",
       "      <th>id</th>\n",
       "      <th></th>\n",
       "      <th></th>\n",
       "      <th></th>\n",
       "      <th></th>\n",
       "      <th></th>\n",
       "      <th></th>\n",
       "      <th></th>\n",
       "      <th></th>\n",
       "      <th></th>\n",
       "      <th></th>\n",
       "      <th></th>\n",
       "      <th></th>\n",
       "      <th></th>\n",
       "      <th></th>\n",
       "      <th></th>\n",
       "      <th></th>\n",
       "      <th></th>\n",
       "      <th></th>\n",
       "      <th></th>\n",
       "      <th></th>\n",
       "    </tr>\n",
       "  </thead>\n",
       "  <tbody>\n",
       "    <tr>\n",
       "      <th>660728</th>\n",
       "      <td>API</td>\n",
       "      <td>Organic Search</td>\n",
       "      <td>No</td>\n",
       "      <td>No</td>\n",
       "      <td>0</td>\n",
       "      <td>5.0</td>\n",
       "      <td>674</td>\n",
       "      <td>2.50</td>\n",
       "      <td>Email Opened</td>\n",
       "      <td>Select</td>\n",
       "      <td>Unemployed</td>\n",
       "      <td>No</td>\n",
       "      <td>No</td>\n",
       "      <td>No</td>\n",
       "      <td>No</td>\n",
       "      <td>No</td>\n",
       "      <td>No</td>\n",
       "      <td>15.0</td>\n",
       "      <td>15.0</td>\n",
       "      <td>No</td>\n",
       "    </tr>\n",
       "    <tr>\n",
       "      <th>660727</th>\n",
       "      <td>Landing Page Submission</td>\n",
       "      <td>Direct Traffic</td>\n",
       "      <td>No</td>\n",
       "      <td>No</td>\n",
       "      <td>1</td>\n",
       "      <td>2.0</td>\n",
       "      <td>1532</td>\n",
       "      <td>2.00</td>\n",
       "      <td>Email Opened</td>\n",
       "      <td>Business Administration</td>\n",
       "      <td>Student</td>\n",
       "      <td>No</td>\n",
       "      <td>No</td>\n",
       "      <td>No</td>\n",
       "      <td>No</td>\n",
       "      <td>No</td>\n",
       "      <td>No</td>\n",
       "      <td>14.0</td>\n",
       "      <td>20.0</td>\n",
       "      <td>Yes</td>\n",
       "    </tr>\n",
       "    <tr>\n",
       "      <th>660719</th>\n",
       "      <td>Landing Page Submission</td>\n",
       "      <td>Direct Traffic</td>\n",
       "      <td>No</td>\n",
       "      <td>No</td>\n",
       "      <td>0</td>\n",
       "      <td>1.0</td>\n",
       "      <td>305</td>\n",
       "      <td>1.00</td>\n",
       "      <td>Unreachable</td>\n",
       "      <td>Media and Advertising</td>\n",
       "      <td>Unemployed</td>\n",
       "      <td>No</td>\n",
       "      <td>No</td>\n",
       "      <td>No</td>\n",
       "      <td>No</td>\n",
       "      <td>No</td>\n",
       "      <td>No</td>\n",
       "      <td>13.0</td>\n",
       "      <td>17.0</td>\n",
       "      <td>No</td>\n",
       "    </tr>\n",
       "    <tr>\n",
       "      <th>660681</th>\n",
       "      <td>Landing Page Submission</td>\n",
       "      <td>Google</td>\n",
       "      <td>No</td>\n",
       "      <td>No</td>\n",
       "      <td>1</td>\n",
       "      <td>2.0</td>\n",
       "      <td>1428</td>\n",
       "      <td>1.00</td>\n",
       "      <td>Converted to Lead</td>\n",
       "      <td>Select</td>\n",
       "      <td>Unemployed</td>\n",
       "      <td>No</td>\n",
       "      <td>No</td>\n",
       "      <td>No</td>\n",
       "      <td>No</td>\n",
       "      <td>No</td>\n",
       "      <td>No</td>\n",
       "      <td>15.0</td>\n",
       "      <td>18.0</td>\n",
       "      <td>No</td>\n",
       "    </tr>\n",
       "    <tr>\n",
       "      <th>660673</th>\n",
       "      <td>Landing Page Submission</td>\n",
       "      <td>Google</td>\n",
       "      <td>No</td>\n",
       "      <td>No</td>\n",
       "      <td>1</td>\n",
       "      <td>2.0</td>\n",
       "      <td>1640</td>\n",
       "      <td>2.00</td>\n",
       "      <td>Email Opened</td>\n",
       "      <td>Supply Chain Management</td>\n",
       "      <td>Unemployed</td>\n",
       "      <td>No</td>\n",
       "      <td>No</td>\n",
       "      <td>No</td>\n",
       "      <td>No</td>\n",
       "      <td>No</td>\n",
       "      <td>No</td>\n",
       "      <td>14.0</td>\n",
       "      <td>20.0</td>\n",
       "      <td>No</td>\n",
       "    </tr>\n",
       "    <tr>\n",
       "      <th>...</th>\n",
       "      <td>...</td>\n",
       "      <td>...</td>\n",
       "      <td>...</td>\n",
       "      <td>...</td>\n",
       "      <td>...</td>\n",
       "      <td>...</td>\n",
       "      <td>...</td>\n",
       "      <td>...</td>\n",
       "      <td>...</td>\n",
       "      <td>...</td>\n",
       "      <td>...</td>\n",
       "      <td>...</td>\n",
       "      <td>...</td>\n",
       "      <td>...</td>\n",
       "      <td>...</td>\n",
       "      <td>...</td>\n",
       "      <td>...</td>\n",
       "      <td>...</td>\n",
       "      <td>...</td>\n",
       "      <td>...</td>\n",
       "    </tr>\n",
       "    <tr>\n",
       "      <th>579564</th>\n",
       "      <td>Landing Page Submission</td>\n",
       "      <td>Direct Traffic</td>\n",
       "      <td>Yes</td>\n",
       "      <td>No</td>\n",
       "      <td>1</td>\n",
       "      <td>8.0</td>\n",
       "      <td>1845</td>\n",
       "      <td>2.67</td>\n",
       "      <td>Email Marked Spam</td>\n",
       "      <td>IT Projects Management</td>\n",
       "      <td>Unemployed</td>\n",
       "      <td>No</td>\n",
       "      <td>No</td>\n",
       "      <td>No</td>\n",
       "      <td>No</td>\n",
       "      <td>No</td>\n",
       "      <td>No</td>\n",
       "      <td>15.0</td>\n",
       "      <td>17.0</td>\n",
       "      <td>No</td>\n",
       "    </tr>\n",
       "    <tr>\n",
       "      <th>579546</th>\n",
       "      <td>Landing Page Submission</td>\n",
       "      <td>Direct Traffic</td>\n",
       "      <td>No</td>\n",
       "      <td>No</td>\n",
       "      <td>0</td>\n",
       "      <td>2.0</td>\n",
       "      <td>238</td>\n",
       "      <td>2.00</td>\n",
       "      <td>SMS Sent</td>\n",
       "      <td>Media and Advertising</td>\n",
       "      <td>Unemployed</td>\n",
       "      <td>No</td>\n",
       "      <td>No</td>\n",
       "      <td>No</td>\n",
       "      <td>No</td>\n",
       "      <td>No</td>\n",
       "      <td>No</td>\n",
       "      <td>14.0</td>\n",
       "      <td>19.0</td>\n",
       "      <td>Yes</td>\n",
       "    </tr>\n",
       "    <tr>\n",
       "      <th>579545</th>\n",
       "      <td>Landing Page Submission</td>\n",
       "      <td>Direct Traffic</td>\n",
       "      <td>Yes</td>\n",
       "      <td>No</td>\n",
       "      <td>0</td>\n",
       "      <td>2.0</td>\n",
       "      <td>199</td>\n",
       "      <td>2.00</td>\n",
       "      <td>SMS Sent</td>\n",
       "      <td>Business Administration</td>\n",
       "      <td>Unemployed</td>\n",
       "      <td>No</td>\n",
       "      <td>No</td>\n",
       "      <td>No</td>\n",
       "      <td>No</td>\n",
       "      <td>No</td>\n",
       "      <td>No</td>\n",
       "      <td>13.0</td>\n",
       "      <td>20.0</td>\n",
       "      <td>Yes</td>\n",
       "    </tr>\n",
       "    <tr>\n",
       "      <th>579538</th>\n",
       "      <td>Landing Page Submission</td>\n",
       "      <td>Google</td>\n",
       "      <td>No</td>\n",
       "      <td>No</td>\n",
       "      <td>1</td>\n",
       "      <td>3.0</td>\n",
       "      <td>499</td>\n",
       "      <td>3.00</td>\n",
       "      <td>SMS Sent</td>\n",
       "      <td>Human Resource Management</td>\n",
       "      <td>NaN</td>\n",
       "      <td>No</td>\n",
       "      <td>No</td>\n",
       "      <td>No</td>\n",
       "      <td>No</td>\n",
       "      <td>No</td>\n",
       "      <td>No</td>\n",
       "      <td>15.0</td>\n",
       "      <td>16.0</td>\n",
       "      <td>No</td>\n",
       "    </tr>\n",
       "    <tr>\n",
       "      <th>579533</th>\n",
       "      <td>Landing Page Submission</td>\n",
       "      <td>Direct Traffic</td>\n",
       "      <td>No</td>\n",
       "      <td>No</td>\n",
       "      <td>1</td>\n",
       "      <td>6.0</td>\n",
       "      <td>1279</td>\n",
       "      <td>3.00</td>\n",
       "      <td>SMS Sent</td>\n",
       "      <td>Supply Chain Management</td>\n",
       "      <td>Unemployed</td>\n",
       "      <td>No</td>\n",
       "      <td>No</td>\n",
       "      <td>No</td>\n",
       "      <td>No</td>\n",
       "      <td>No</td>\n",
       "      <td>No</td>\n",
       "      <td>15.0</td>\n",
       "      <td>18.0</td>\n",
       "      <td>Yes</td>\n",
       "    </tr>\n",
       "  </tbody>\n",
       "</table>\n",
       "<p>6365 rows × 20 columns</p>\n",
       "</div>"
      ],
      "text/plain": [
       "                         origen          fuente no_enviar_email no_llamar  \\\n",
       "id                                                                          \n",
       "660728                      API  Organic Search              No        No   \n",
       "660727  Landing Page Submission  Direct Traffic              No        No   \n",
       "660719  Landing Page Submission  Direct Traffic              No        No   \n",
       "660681  Landing Page Submission          Google              No        No   \n",
       "660673  Landing Page Submission          Google              No        No   \n",
       "...                         ...             ...             ...       ...   \n",
       "579564  Landing Page Submission  Direct Traffic             Yes        No   \n",
       "579546  Landing Page Submission  Direct Traffic              No        No   \n",
       "579545  Landing Page Submission  Direct Traffic             Yes        No   \n",
       "579538  Landing Page Submission          Google              No        No   \n",
       "579533  Landing Page Submission  Direct Traffic              No        No   \n",
       "\n",
       "        compra  visitas_total  tiempo_en_site_total  paginas_vistas_visita  \\\n",
       "id                                                                           \n",
       "660728       0            5.0                   674                   2.50   \n",
       "660727       1            2.0                  1532                   2.00   \n",
       "660719       0            1.0                   305                   1.00   \n",
       "660681       1            2.0                  1428                   1.00   \n",
       "660673       1            2.0                  1640                   2.00   \n",
       "...        ...            ...                   ...                    ...   \n",
       "579564       1            8.0                  1845                   2.67   \n",
       "579546       0            2.0                   238                   2.00   \n",
       "579545       0            2.0                   199                   2.00   \n",
       "579538       1            3.0                   499                   3.00   \n",
       "579533       1            6.0                  1279                   3.00   \n",
       "\n",
       "            ult_actividad                     ambito   ocupacion  \\\n",
       "id                                                                 \n",
       "660728       Email Opened                     Select  Unemployed   \n",
       "660727       Email Opened    Business Administration     Student   \n",
       "660719        Unreachable      Media and Advertising  Unemployed   \n",
       "660681  Converted to Lead                     Select  Unemployed   \n",
       "660673       Email Opened    Supply Chain Management  Unemployed   \n",
       "...                   ...                        ...         ...   \n",
       "579564  Email Marked Spam     IT Projects Management  Unemployed   \n",
       "579546           SMS Sent      Media and Advertising  Unemployed   \n",
       "579545           SMS Sent    Business Administration  Unemployed   \n",
       "579538           SMS Sent  Human Resource Management         NaN   \n",
       "579533           SMS Sent    Supply Chain Management  Unemployed   \n",
       "\n",
       "       conociste_google conociste_revista conociste_periodico  \\\n",
       "id                                                              \n",
       "660728               No                No                  No   \n",
       "660727               No                No                  No   \n",
       "660719               No                No                  No   \n",
       "660681               No                No                  No   \n",
       "660673               No                No                  No   \n",
       "...                 ...               ...                 ...   \n",
       "579564               No                No                  No   \n",
       "579546               No                No                  No   \n",
       "579545               No                No                  No   \n",
       "579538               No                No                  No   \n",
       "579533               No                No                  No   \n",
       "\n",
       "       conociste_youtube conociste_facebook conociste_referencias  \\\n",
       "id                                                                  \n",
       "660728                No                 No                    No   \n",
       "660727                No                 No                    No   \n",
       "660719                No                 No                    No   \n",
       "660681                No                 No                    No   \n",
       "660673                No                 No                    No   \n",
       "...                  ...                ...                   ...   \n",
       "579564                No                 No                    No   \n",
       "579546                No                 No                    No   \n",
       "579545                No                 No                    No   \n",
       "579538                No                 No                    No   \n",
       "579533                No                 No                    No   \n",
       "\n",
       "        score_actividad  score_perfil descarga_lm  \n",
       "id                                                 \n",
       "660728             15.0          15.0          No  \n",
       "660727             14.0          20.0         Yes  \n",
       "660719             13.0          17.0          No  \n",
       "660681             15.0          18.0          No  \n",
       "660673             14.0          20.0          No  \n",
       "...                 ...           ...         ...  \n",
       "579564             15.0          17.0          No  \n",
       "579546             14.0          19.0         Yes  \n",
       "579545             13.0          20.0         Yes  \n",
       "579538             15.0          16.0          No  \n",
       "579533             15.0          18.0         Yes  \n",
       "\n",
       "[6365 rows x 20 columns]"
      ]
     },
     "execution_count": 5,
     "metadata": {},
     "output_type": "execute_result"
    }
   ],
   "source": [
    "df = clean_names(df)\n",
    "df"
   ]
  },
  {
   "cell_type": "markdown",
   "id": "25bf4c99",
   "metadata": {},
   "source": [
    "### 3.2. Corrección manual"
   ]
  },
  {
   "cell_type": "code",
   "execution_count": 6,
   "id": "c6d83e70",
   "metadata": {},
   "outputs": [],
   "source": [
    "#df.rename(columns = {}, inplace=True)\n",
    "#df"
   ]
  },
  {
   "cell_type": "markdown",
   "id": "d2d5443c",
   "metadata": {},
   "source": [
    "## 4. VISIÓN GENERAL"
   ]
  },
  {
   "cell_type": "code",
   "execution_count": 7,
   "id": "976c8ac6",
   "metadata": {},
   "outputs": [
    {
     "name": "stdout",
     "output_type": "stream",
     "text": [
      "<class 'pandas.core.frame.DataFrame'>\n",
      "Index: 6365 entries, 660728 to 579533\n",
      "Data columns (total 20 columns):\n",
      " #   Column                 Non-Null Count  Dtype  \n",
      "---  ------                 --------------  -----  \n",
      " 0   origen                 6365 non-null   object \n",
      " 1   fuente                 6339 non-null   object \n",
      " 2   no_enviar_email        6365 non-null   object \n",
      " 3   no_llamar              6365 non-null   object \n",
      " 4   compra                 6365 non-null   int64  \n",
      " 5   visitas_total          6279 non-null   float64\n",
      " 6   tiempo_en_site_total   6365 non-null   int64  \n",
      " 7   paginas_vistas_visita  6279 non-null   float64\n",
      " 8   ult_actividad          6306 non-null   object \n",
      " 9   ambito                 5360 non-null   object \n",
      " 10  ocupacion              4502 non-null   object \n",
      " 11  conociste_google       6365 non-null   object \n",
      " 12  conociste_revista      6365 non-null   object \n",
      " 13  conociste_periodico    6365 non-null   object \n",
      " 14  conociste_youtube      6365 non-null   object \n",
      " 15  conociste_facebook     6365 non-null   object \n",
      " 16  conociste_referencias  6365 non-null   object \n",
      " 17  score_actividad        3487 non-null   float64\n",
      " 18  score_perfil           3487 non-null   float64\n",
      " 19  descarga_lm            6365 non-null   object \n",
      "dtypes: float64(4), int64(2), object(14)\n",
      "memory usage: 1.0+ MB\n"
     ]
    }
   ],
   "source": [
    "df.info()"
   ]
  },
  {
   "cell_type": "code",
   "execution_count": 8,
   "id": "06c7ed86",
   "metadata": {},
   "outputs": [
    {
     "data": {
      "text/html": [
       "<div>\n",
       "<style scoped>\n",
       "    .dataframe tbody tr th:only-of-type {\n",
       "        vertical-align: middle;\n",
       "    }\n",
       "\n",
       "    .dataframe tbody tr th {\n",
       "        vertical-align: top;\n",
       "    }\n",
       "\n",
       "    .dataframe thead th {\n",
       "        text-align: right;\n",
       "    }\n",
       "</style>\n",
       "<table border=\"1\" class=\"dataframe\">\n",
       "  <thead>\n",
       "    <tr style=\"text-align: right;\">\n",
       "      <th></th>\n",
       "      <th>origen</th>\n",
       "      <th>fuente</th>\n",
       "      <th>no_enviar_email</th>\n",
       "      <th>no_llamar</th>\n",
       "      <th>compra</th>\n",
       "      <th>visitas_total</th>\n",
       "      <th>tiempo_en_site_total</th>\n",
       "      <th>paginas_vistas_visita</th>\n",
       "      <th>ult_actividad</th>\n",
       "      <th>ambito</th>\n",
       "      <th>ocupacion</th>\n",
       "      <th>conociste_google</th>\n",
       "      <th>conociste_revista</th>\n",
       "      <th>conociste_periodico</th>\n",
       "      <th>conociste_youtube</th>\n",
       "      <th>conociste_facebook</th>\n",
       "      <th>conociste_referencias</th>\n",
       "      <th>score_actividad</th>\n",
       "      <th>score_perfil</th>\n",
       "      <th>descarga_lm</th>\n",
       "    </tr>\n",
       "    <tr>\n",
       "      <th>id</th>\n",
       "      <th></th>\n",
       "      <th></th>\n",
       "      <th></th>\n",
       "      <th></th>\n",
       "      <th></th>\n",
       "      <th></th>\n",
       "      <th></th>\n",
       "      <th></th>\n",
       "      <th></th>\n",
       "      <th></th>\n",
       "      <th></th>\n",
       "      <th></th>\n",
       "      <th></th>\n",
       "      <th></th>\n",
       "      <th></th>\n",
       "      <th></th>\n",
       "      <th></th>\n",
       "      <th></th>\n",
       "      <th></th>\n",
       "      <th></th>\n",
       "    </tr>\n",
       "  </thead>\n",
       "  <tbody>\n",
       "    <tr>\n",
       "      <th>660728</th>\n",
       "      <td>API</td>\n",
       "      <td>Organic Search</td>\n",
       "      <td>No</td>\n",
       "      <td>No</td>\n",
       "      <td>0</td>\n",
       "      <td>5.0</td>\n",
       "      <td>674</td>\n",
       "      <td>2.5</td>\n",
       "      <td>Email Opened</td>\n",
       "      <td>Select</td>\n",
       "      <td>Unemployed</td>\n",
       "      <td>No</td>\n",
       "      <td>No</td>\n",
       "      <td>No</td>\n",
       "      <td>No</td>\n",
       "      <td>No</td>\n",
       "      <td>No</td>\n",
       "      <td>15.0</td>\n",
       "      <td>15.0</td>\n",
       "      <td>No</td>\n",
       "    </tr>\n",
       "    <tr>\n",
       "      <th>660727</th>\n",
       "      <td>Landing Page Submission</td>\n",
       "      <td>Direct Traffic</td>\n",
       "      <td>No</td>\n",
       "      <td>No</td>\n",
       "      <td>1</td>\n",
       "      <td>2.0</td>\n",
       "      <td>1532</td>\n",
       "      <td>2.0</td>\n",
       "      <td>Email Opened</td>\n",
       "      <td>Business Administration</td>\n",
       "      <td>Student</td>\n",
       "      <td>No</td>\n",
       "      <td>No</td>\n",
       "      <td>No</td>\n",
       "      <td>No</td>\n",
       "      <td>No</td>\n",
       "      <td>No</td>\n",
       "      <td>14.0</td>\n",
       "      <td>20.0</td>\n",
       "      <td>Yes</td>\n",
       "    </tr>\n",
       "    <tr>\n",
       "      <th>660719</th>\n",
       "      <td>Landing Page Submission</td>\n",
       "      <td>Direct Traffic</td>\n",
       "      <td>No</td>\n",
       "      <td>No</td>\n",
       "      <td>0</td>\n",
       "      <td>1.0</td>\n",
       "      <td>305</td>\n",
       "      <td>1.0</td>\n",
       "      <td>Unreachable</td>\n",
       "      <td>Media and Advertising</td>\n",
       "      <td>Unemployed</td>\n",
       "      <td>No</td>\n",
       "      <td>No</td>\n",
       "      <td>No</td>\n",
       "      <td>No</td>\n",
       "      <td>No</td>\n",
       "      <td>No</td>\n",
       "      <td>13.0</td>\n",
       "      <td>17.0</td>\n",
       "      <td>No</td>\n",
       "    </tr>\n",
       "    <tr>\n",
       "      <th>660681</th>\n",
       "      <td>Landing Page Submission</td>\n",
       "      <td>Google</td>\n",
       "      <td>No</td>\n",
       "      <td>No</td>\n",
       "      <td>1</td>\n",
       "      <td>2.0</td>\n",
       "      <td>1428</td>\n",
       "      <td>1.0</td>\n",
       "      <td>Converted to Lead</td>\n",
       "      <td>Select</td>\n",
       "      <td>Unemployed</td>\n",
       "      <td>No</td>\n",
       "      <td>No</td>\n",
       "      <td>No</td>\n",
       "      <td>No</td>\n",
       "      <td>No</td>\n",
       "      <td>No</td>\n",
       "      <td>15.0</td>\n",
       "      <td>18.0</td>\n",
       "      <td>No</td>\n",
       "    </tr>\n",
       "    <tr>\n",
       "      <th>660673</th>\n",
       "      <td>Landing Page Submission</td>\n",
       "      <td>Google</td>\n",
       "      <td>No</td>\n",
       "      <td>No</td>\n",
       "      <td>1</td>\n",
       "      <td>2.0</td>\n",
       "      <td>1640</td>\n",
       "      <td>2.0</td>\n",
       "      <td>Email Opened</td>\n",
       "      <td>Supply Chain Management</td>\n",
       "      <td>Unemployed</td>\n",
       "      <td>No</td>\n",
       "      <td>No</td>\n",
       "      <td>No</td>\n",
       "      <td>No</td>\n",
       "      <td>No</td>\n",
       "      <td>No</td>\n",
       "      <td>14.0</td>\n",
       "      <td>20.0</td>\n",
       "      <td>No</td>\n",
       "    </tr>\n",
       "  </tbody>\n",
       "</table>\n",
       "</div>"
      ],
      "text/plain": [
       "                         origen          fuente no_enviar_email no_llamar  \\\n",
       "id                                                                          \n",
       "660728                      API  Organic Search              No        No   \n",
       "660727  Landing Page Submission  Direct Traffic              No        No   \n",
       "660719  Landing Page Submission  Direct Traffic              No        No   \n",
       "660681  Landing Page Submission          Google              No        No   \n",
       "660673  Landing Page Submission          Google              No        No   \n",
       "\n",
       "        compra  visitas_total  tiempo_en_site_total  paginas_vistas_visita  \\\n",
       "id                                                                           \n",
       "660728       0            5.0                   674                    2.5   \n",
       "660727       1            2.0                  1532                    2.0   \n",
       "660719       0            1.0                   305                    1.0   \n",
       "660681       1            2.0                  1428                    1.0   \n",
       "660673       1            2.0                  1640                    2.0   \n",
       "\n",
       "            ult_actividad                   ambito   ocupacion  \\\n",
       "id                                                               \n",
       "660728       Email Opened                   Select  Unemployed   \n",
       "660727       Email Opened  Business Administration     Student   \n",
       "660719        Unreachable    Media and Advertising  Unemployed   \n",
       "660681  Converted to Lead                   Select  Unemployed   \n",
       "660673       Email Opened  Supply Chain Management  Unemployed   \n",
       "\n",
       "       conociste_google conociste_revista conociste_periodico  \\\n",
       "id                                                              \n",
       "660728               No                No                  No   \n",
       "660727               No                No                  No   \n",
       "660719               No                No                  No   \n",
       "660681               No                No                  No   \n",
       "660673               No                No                  No   \n",
       "\n",
       "       conociste_youtube conociste_facebook conociste_referencias  \\\n",
       "id                                                                  \n",
       "660728                No                 No                    No   \n",
       "660727                No                 No                    No   \n",
       "660719                No                 No                    No   \n",
       "660681                No                 No                    No   \n",
       "660673                No                 No                    No   \n",
       "\n",
       "        score_actividad  score_perfil descarga_lm  \n",
       "id                                                 \n",
       "660728             15.0          15.0          No  \n",
       "660727             14.0          20.0         Yes  \n",
       "660719             13.0          17.0          No  \n",
       "660681             15.0          18.0          No  \n",
       "660673             14.0          20.0          No  "
      ]
     },
     "execution_count": 8,
     "metadata": {},
     "output_type": "execute_result"
    }
   ],
   "source": [
    "df.head()"
   ]
  },
  {
   "cell_type": "markdown",
   "id": "158ee1d7",
   "metadata": {},
   "source": [
    "## 5. TIPOS DE DATOS"
   ]
  },
  {
   "cell_type": "markdown",
   "id": "88162727",
   "metadata": {},
   "source": [
    "### 5.1. Identificación"
   ]
  },
  {
   "cell_type": "code",
   "execution_count": 9,
   "id": "197a99c2",
   "metadata": {},
   "outputs": [
    {
     "data": {
      "text/plain": [
       "origen                    object\n",
       "fuente                    object\n",
       "no_enviar_email           object\n",
       "no_llamar                 object\n",
       "compra                     int64\n",
       "visitas_total            float64\n",
       "tiempo_en_site_total       int64\n",
       "paginas_vistas_visita    float64\n",
       "ult_actividad             object\n",
       "ambito                    object\n",
       "ocupacion                 object\n",
       "conociste_google          object\n",
       "conociste_revista         object\n",
       "conociste_periodico       object\n",
       "conociste_youtube         object\n",
       "conociste_facebook        object\n",
       "conociste_referencias     object\n",
       "score_actividad          float64\n",
       "score_perfil             float64\n",
       "descarga_lm               object\n",
       "dtype: object"
      ]
     },
     "execution_count": 9,
     "metadata": {},
     "output_type": "execute_result"
    }
   ],
   "source": [
    "df.dtypes"
   ]
  },
  {
   "cell_type": "markdown",
   "id": "54f495a6",
   "metadata": {},
   "source": [
    "### 5.2. Corrección"
   ]
  },
  {
   "cell_type": "code",
   "execution_count": 10,
   "id": "828b9893",
   "metadata": {
    "scrolled": false
   },
   "outputs": [
    {
     "data": {
      "text/plain": [
       "origen                    object\n",
       "fuente                    object\n",
       "no_enviar_email           object\n",
       "no_llamar                 object\n",
       "compra                     int64\n",
       "visitas_total              Int64\n",
       "tiempo_en_site_total       int64\n",
       "paginas_vistas_visita    float64\n",
       "ult_actividad             object\n",
       "ambito                    object\n",
       "ocupacion                 object\n",
       "conociste_google          object\n",
       "conociste_revista         object\n",
       "conociste_periodico       object\n",
       "conociste_youtube         object\n",
       "conociste_facebook        object\n",
       "conociste_referencias     object\n",
       "score_actividad          float64\n",
       "score_perfil             float64\n",
       "descarga_lm               object\n",
       "dtype: object"
      ]
     },
     "execution_count": 10,
     "metadata": {},
     "output_type": "execute_result"
    }
   ],
   "source": [
    "df = df.astype({'visitas_total':'Int64'})\n",
    "\n",
    "df.dtypes"
   ]
  },
  {
   "cell_type": "markdown",
   "id": "cc8d4a22",
   "metadata": {},
   "source": [
    "## 6. VALORES ÚNICOS"
   ]
  },
  {
   "cell_type": "markdown",
   "id": "f21f0e36",
   "metadata": {},
   "source": [
    "### 6.1. Identificación"
   ]
  },
  {
   "cell_type": "code",
   "execution_count": 11,
   "id": "6e53e444",
   "metadata": {},
   "outputs": [
    {
     "data": {
      "text/plain": [
       "conociste_youtube           1\n",
       "conociste_revista           1\n",
       "descarga_lm                 2\n",
       "conociste_referencias       2\n",
       "no_enviar_email             2\n",
       "no_llamar                   2\n",
       "compra                      2\n",
       "conociste_facebook          2\n",
       "conociste_periodico         2\n",
       "conociste_google            2\n",
       "origen                      4\n",
       "ocupacion                   6\n",
       "score_perfil               10\n",
       "score_actividad            11\n",
       "fuente                     15\n",
       "ult_actividad              17\n",
       "ambito                     19\n",
       "visitas_total              36\n",
       "paginas_vistas_visita      97\n",
       "tiempo_en_site_total     1563\n",
       "dtype: int64"
      ]
     },
     "execution_count": 11,
     "metadata": {},
     "output_type": "execute_result"
    }
   ],
   "source": [
    "df.nunique().sort_values()"
   ]
  },
  {
   "cell_type": "code",
   "execution_count": 12,
   "id": "34fc0956",
   "metadata": {},
   "outputs": [
    {
     "data": {
      "text/plain": [
       "conociste_youtube\n",
       "No    6365\n",
       "Name: count, dtype: int64"
      ]
     },
     "execution_count": 12,
     "metadata": {},
     "output_type": "execute_result"
    }
   ],
   "source": [
    "df.conociste_youtube.value_counts()"
   ]
  },
  {
   "cell_type": "code",
   "execution_count": 13,
   "id": "4e8e2239",
   "metadata": {},
   "outputs": [
    {
     "data": {
      "text/plain": [
       "conociste_revista\n",
       "No    6365\n",
       "Name: count, dtype: int64"
      ]
     },
     "execution_count": 13,
     "metadata": {},
     "output_type": "execute_result"
    }
   ],
   "source": [
    "df.conociste_revista.value_counts()"
   ]
  },
  {
   "cell_type": "markdown",
   "id": "b1d1a668",
   "metadata": {},
   "source": [
    "### 6.2. Corrección"
   ]
  },
  {
   "cell_type": "code",
   "execution_count": 14,
   "id": "62f7d14e",
   "metadata": {},
   "outputs": [],
   "source": [
    "df.drop(columns = ['conociste_youtube','conociste_revista'], inplace = True)"
   ]
  },
  {
   "cell_type": "code",
   "execution_count": 15,
   "id": "1f50baf0",
   "metadata": {},
   "outputs": [
    {
     "data": {
      "text/plain": [
       "descarga_lm                 2\n",
       "conociste_referencias       2\n",
       "no_enviar_email             2\n",
       "no_llamar                   2\n",
       "compra                      2\n",
       "conociste_facebook          2\n",
       "conociste_periodico         2\n",
       "conociste_google            2\n",
       "origen                      4\n",
       "ocupacion                   6\n",
       "score_perfil               10\n",
       "score_actividad            11\n",
       "fuente                     15\n",
       "ult_actividad              17\n",
       "ambito                     19\n",
       "visitas_total              36\n",
       "paginas_vistas_visita      97\n",
       "tiempo_en_site_total     1563\n",
       "dtype: int64"
      ]
     },
     "execution_count": 15,
     "metadata": {},
     "output_type": "execute_result"
    }
   ],
   "source": [
    "df.nunique().sort_values(ascending=True)"
   ]
  },
  {
   "cell_type": "markdown",
   "id": "e25cfc89",
   "metadata": {},
   "source": [
    "## 7. DUPLICADOS"
   ]
  },
  {
   "cell_type": "markdown",
   "id": "8a079ed3",
   "metadata": {},
   "source": [
    "### 7.1. Identificación"
   ]
  },
  {
   "cell_type": "code",
   "execution_count": 16,
   "id": "f5b23bfc",
   "metadata": {
    "scrolled": true
   },
   "outputs": [
    {
     "data": {
      "text/plain": [
       "1058"
      ]
     },
     "execution_count": 16,
     "metadata": {},
     "output_type": "execute_result"
    }
   ],
   "source": [
    "df.duplicated().sum()"
   ]
  },
  {
   "cell_type": "markdown",
   "id": "d440242b",
   "metadata": {},
   "source": [
    "### 7.2. Corrección"
   ]
  },
  {
   "cell_type": "code",
   "execution_count": 17,
   "id": "a693f362",
   "metadata": {},
   "outputs": [],
   "source": [
    "df.drop_duplicates(inplace = True)"
   ]
  },
  {
   "cell_type": "markdown",
   "id": "632ec2cd",
   "metadata": {},
   "source": [
    "## 8. SEPARAR NUMÉRICAS Y CATEGÓRICAS"
   ]
  },
  {
   "cell_type": "markdown",
   "id": "573a61ac",
   "metadata": {},
   "source": [
    "### 8.1. Categóricas"
   ]
  },
  {
   "cell_type": "code",
   "execution_count": 18,
   "id": "47a7eece",
   "metadata": {},
   "outputs": [],
   "source": [
    "cat = df.select_dtypes(exclude = 'number').copy()"
   ]
  },
  {
   "cell_type": "markdown",
   "id": "41756893",
   "metadata": {},
   "source": [
    "### 8.2. Numéricas"
   ]
  },
  {
   "cell_type": "code",
   "execution_count": 19,
   "id": "59140e9a",
   "metadata": {},
   "outputs": [],
   "source": [
    "num = df.select_dtypes(include='number').copy()"
   ]
  },
  {
   "cell_type": "markdown",
   "id": "5e7d8e7e",
   "metadata": {},
   "source": [
    "## 9. GESTIÓN DE CATEGÓRICAS"
   ]
  },
  {
   "cell_type": "markdown",
   "id": "5b5808b7",
   "metadata": {},
   "source": [
    "### 9.1. Nulos"
   ]
  },
  {
   "cell_type": "markdown",
   "id": "5c08ca55",
   "metadata": {},
   "source": [
    "#### 9.1.1. Identificación"
   ]
  },
  {
   "cell_type": "code",
   "execution_count": 20,
   "id": "da49ae63",
   "metadata": {
    "scrolled": true
   },
   "outputs": [
    {
     "data": {
      "text/plain": [
       "ocupacion                1345\n",
       "ambito                    487\n",
       "ult_actividad              59\n",
       "fuente                     19\n",
       "origen                      0\n",
       "no_enviar_email             0\n",
       "no_llamar                   0\n",
       "conociste_google            0\n",
       "conociste_periodico         0\n",
       "conociste_facebook          0\n",
       "conociste_referencias       0\n",
       "descarga_lm                 0\n",
       "dtype: int64"
      ]
     },
     "execution_count": 20,
     "metadata": {},
     "output_type": "execute_result"
    }
   ],
   "source": [
    "cat.isna().sum().sort_values(ascending = False)"
   ]
  },
  {
   "cell_type": "markdown",
   "id": "6802d575",
   "metadata": {},
   "source": [
    "#### 9.1.2. Corrección"
   ]
  },
  {
   "cell_type": "markdown",
   "id": "8b7a0f5c",
   "metadata": {},
   "source": [
    "##### Eliminar la variable"
   ]
  },
  {
   "cell_type": "code",
   "execution_count": 21,
   "id": "e73e2300",
   "metadata": {},
   "outputs": [],
   "source": [
    "#cat.drop(columns = 'dia_de_la_semana',inplace = True)"
   ]
  },
  {
   "cell_type": "markdown",
   "id": "cdd2db55",
   "metadata": {},
   "source": [
    "##### Eliminar registros"
   ]
  },
  {
   "cell_type": "markdown",
   "id": "d50e87a0",
   "metadata": {},
   "source": [
    "*Cuidado: Si se eliminan registros hay que eliminarlos tanto de cat como de num*"
   ]
  },
  {
   "cell_type": "code",
   "execution_count": 22,
   "id": "62ad5097",
   "metadata": {},
   "outputs": [],
   "source": [
    "criterio = 8 #Mínimo de variables SIN nulos por registro. Se elimina el registro si hay menos de esas variables sin nulos\n",
    "\n",
    "#No aplicamos la eliminación porque Isaac no le ve sentido. En caso de aplicarse, se haría solamente sobre cat porque ninguna\n",
    "#de las variables pertenece a num y en el merge posterior lo que haríamos es que mandase el id de cat para unir las tablas\n",
    "#cat.dropna(thresh=criterio, inplace=True)\n",
    "#num.dropna(thresh=criterio, inplace=True)"
   ]
  },
  {
   "cell_type": "code",
   "execution_count": 23,
   "id": "7d198685",
   "metadata": {},
   "outputs": [
    {
     "data": {
      "text/plain": [
       "(5307, 6)"
      ]
     },
     "execution_count": 23,
     "metadata": {},
     "output_type": "execute_result"
    }
   ],
   "source": [
    "num.shape"
   ]
  },
  {
   "cell_type": "code",
   "execution_count": 24,
   "id": "662f681f",
   "metadata": {},
   "outputs": [
    {
     "data": {
      "text/plain": [
       "(5307, 12)"
      ]
     },
     "execution_count": 24,
     "metadata": {},
     "output_type": "execute_result"
    }
   ],
   "source": [
    "cat.shape"
   ]
  },
  {
   "cell_type": "markdown",
   "id": "ebeb52a6",
   "metadata": {},
   "source": [
    "##### Imputar por un valor"
   ]
  },
  {
   "cell_type": "code",
   "execution_count": 25,
   "id": "89c696be",
   "metadata": {},
   "outputs": [
    {
     "data": {
      "text/plain": [
       "ult_actividad\n",
       "Email Opened                    2044\n",
       "SMS Sent                        1601\n",
       "Page Visited on Website          440\n",
       "Converted to Lead                307\n",
       "Chat Conversation                281\n",
       "Email Bounced                    207\n",
       "Email Link Clicked               137\n",
       "Form Submitted on Website         82\n",
       "Unreachable                       73\n",
       "Unsubscribed                      40\n",
       "Had a Phone Conversation          18\n",
       "Approached upfront                 7\n",
       "View in browser link Clicked       5\n",
       "Email Received                     2\n",
       "Email Marked Spam                  2\n",
       "Visited Booth in Tradeshow         1\n",
       "Resubscribed to emails             1\n",
       "Name: count, dtype: int64"
      ]
     },
     "execution_count": 25,
     "metadata": {},
     "output_type": "execute_result"
    }
   ],
   "source": [
    "cat.ult_actividad.value_counts()"
   ]
  },
  {
   "cell_type": "code",
   "execution_count": 26,
   "id": "ea181fb9",
   "metadata": {},
   "outputs": [
    {
     "data": {
      "text/plain": [
       "fuente\n",
       "Google               1987\n",
       "Direct Traffic       1803\n",
       "Organic Search        800\n",
       "Chat                  311\n",
       "Reference             249\n",
       "Referral Sites         86\n",
       "Facebook               36\n",
       "google                  4\n",
       "bing                    4\n",
       "Social Media            2\n",
       "Click2call              2\n",
       "Pay per Click Ads       1\n",
       "Live Chat               1\n",
       "youtubechannel          1\n",
       "Press_Release           1\n",
       "Name: count, dtype: int64"
      ]
     },
     "execution_count": 26,
     "metadata": {},
     "output_type": "execute_result"
    }
   ],
   "source": [
    "cat.fuente.value_counts()\n",
    "#En este caso Google y Tráfico directo son muy similares, por lo que vamos a decir que los nulos son un valor desconocido"
   ]
  },
  {
   "cell_type": "markdown",
   "id": "2cba1c3c",
   "metadata": {},
   "source": [
    "###### Variables a imputar"
   ]
  },
  {
   "cell_type": "code",
   "execution_count": 27,
   "id": "9fad1e38",
   "metadata": {},
   "outputs": [
    {
     "data": {
      "text/plain": [
       "['origen',\n",
       " 'fuente',\n",
       " 'no_enviar_email',\n",
       " 'no_llamar',\n",
       " 'ult_actividad',\n",
       " 'ambito',\n",
       " 'ocupacion',\n",
       " 'conociste_google',\n",
       " 'conociste_periodico',\n",
       " 'conociste_facebook',\n",
       " 'conociste_referencias',\n",
       " 'descarga_lm']"
      ]
     },
     "execution_count": 27,
     "metadata": {},
     "output_type": "execute_result"
    }
   ],
   "source": [
    "cat.columns.to_list()"
   ]
  },
  {
   "cell_type": "code",
   "execution_count": 28,
   "id": "4050ef9f",
   "metadata": {},
   "outputs": [],
   "source": [
    "var_imputar_valor = ['origen',\n",
    "                     'fuente',\n",
    "                     'no_enviar_email',\n",
    "                     'no_llamar',\n",
    "                     'ult_actividad',\n",
    "                     'conociste_google',\n",
    "                     'conociste_periodico',\n",
    "                     'conociste_facebook',\n",
    "                     'conociste_referencias',\n",
    "                     'descarga_lm']"
   ]
  },
  {
   "cell_type": "markdown",
   "id": "fa866ac6",
   "metadata": {},
   "source": [
    "###### Valor por el que imputar"
   ]
  },
  {
   "cell_type": "code",
   "execution_count": 29,
   "id": "10abb34a",
   "metadata": {},
   "outputs": [],
   "source": [
    "valor = 'DESCONOCIDO'"
   ]
  },
  {
   "cell_type": "markdown",
   "id": "78d10252",
   "metadata": {},
   "source": [
    "###### Imputar"
   ]
  },
  {
   "cell_type": "code",
   "execution_count": 30,
   "id": "f16e8491",
   "metadata": {},
   "outputs": [],
   "source": [
    "cat[var_imputar_valor] = cat[var_imputar_valor].fillna(valor)"
   ]
  },
  {
   "cell_type": "markdown",
   "id": "c111e44d",
   "metadata": {},
   "source": [
    "##### Imputar por la moda"
   ]
  },
  {
   "cell_type": "code",
   "execution_count": 31,
   "id": "880a715f",
   "metadata": {},
   "outputs": [
    {
     "data": {
      "text/plain": [
       "1345"
      ]
     },
     "execution_count": 31,
     "metadata": {},
     "output_type": "execute_result"
    }
   ],
   "source": [
    "cat.ocupacion.isna().sum()"
   ]
  },
  {
   "cell_type": "code",
   "execution_count": 32,
   "id": "0d2c6552",
   "metadata": {},
   "outputs": [
    {
     "data": {
      "text/plain": [
       "ocupacion\n",
       "Unemployed              3365\n",
       "Working Professional     444\n",
       "Student                  133\n",
       "Other                     10\n",
       "Businessman                5\n",
       "Housewife                  5\n",
       "Name: count, dtype: int64"
      ]
     },
     "execution_count": 32,
     "metadata": {},
     "output_type": "execute_result"
    }
   ],
   "source": [
    "cat.ocupacion.value_counts()"
   ]
  },
  {
   "cell_type": "code",
   "execution_count": 33,
   "id": "d44c9f3d",
   "metadata": {},
   "outputs": [
    {
     "data": {
      "text/plain": [
       "ambito\n",
       "Select                               847\n",
       "Finance Management                   676\n",
       "Human Resource Management            560\n",
       "Marketing Management                 554\n",
       "Operations Management                344\n",
       "Business Administration              270\n",
       "Supply Chain Management              253\n",
       "IT Projects Management               240\n",
       "Banking, Investment And Insurance    228\n",
       "Travel and Tourism                   143\n",
       "Media and Advertising                136\n",
       "International Business               128\n",
       "Healthcare Management                106\n",
       "E-COMMERCE                            80\n",
       "Hospitality Management                72\n",
       "Retail Management                     64\n",
       "Rural and Agribusiness                53\n",
       "E-Business                            34\n",
       "Services Excellence                   32\n",
       "Name: count, dtype: int64"
      ]
     },
     "execution_count": 33,
     "metadata": {},
     "output_type": "execute_result"
    }
   ],
   "source": [
    "cat.ambito.value_counts()"
   ]
  },
  {
   "cell_type": "markdown",
   "id": "4c1a9c46",
   "metadata": {},
   "source": [
    "###### Variables a imputar"
   ]
  },
  {
   "cell_type": "code",
   "execution_count": 34,
   "id": "cf4cee3d",
   "metadata": {},
   "outputs": [],
   "source": [
    "var_imputar_moda = ['ocupacion','ambito']"
   ]
  },
  {
   "cell_type": "markdown",
   "id": "e3a31c7d",
   "metadata": {},
   "source": [
    "###### Funcion para imputar con la moda"
   ]
  },
  {
   "cell_type": "code",
   "execution_count": 35,
   "id": "6d7c902b",
   "metadata": {},
   "outputs": [],
   "source": [
    "def imputar_moda(variable):\n",
    "    return(variable.fillna(variable.mode()[0]))"
   ]
  },
  {
   "cell_type": "markdown",
   "id": "b2c3ceba",
   "metadata": {},
   "source": [
    "###### Imputar con la moda"
   ]
  },
  {
   "cell_type": "code",
   "execution_count": 36,
   "id": "5f5184ef",
   "metadata": {},
   "outputs": [],
   "source": [
    "cat[var_imputar_moda] = cat[var_imputar_moda].apply(imputar_moda)"
   ]
  },
  {
   "cell_type": "code",
   "execution_count": 37,
   "id": "adc15336",
   "metadata": {},
   "outputs": [
    {
     "data": {
      "text/plain": [
       "origen                   0\n",
       "fuente                   0\n",
       "no_enviar_email          0\n",
       "no_llamar                0\n",
       "ult_actividad            0\n",
       "ambito                   0\n",
       "ocupacion                0\n",
       "conociste_google         0\n",
       "conociste_periodico      0\n",
       "conociste_facebook       0\n",
       "conociste_referencias    0\n",
       "descarga_lm              0\n",
       "dtype: int64"
      ]
     },
     "execution_count": 37,
     "metadata": {},
     "output_type": "execute_result"
    }
   ],
   "source": [
    "cat.isna().sum().sort_values(ascending = False)"
   ]
  },
  {
   "cell_type": "markdown",
   "id": "913cd65d",
   "metadata": {},
   "source": [
    "### 9.2. Atípicos"
   ]
  },
  {
   "cell_type": "markdown",
   "id": "5a575397",
   "metadata": {},
   "source": [
    "#### 9.2.1. Categorías poco frecuentes"
   ]
  },
  {
   "cell_type": "markdown",
   "id": "e88c9f39",
   "metadata": {},
   "source": [
    "##### Función para agrupar categorías raras en 'OTROS'"
   ]
  },
  {
   "cell_type": "code",
   "execution_count": 38,
   "id": "c59f8d06",
   "metadata": {},
   "outputs": [],
   "source": [
    "def agrupar_cat_raras(variable, criterio = 0.05):\n",
    "    #Calcula las frecuencias\n",
    "    frecuencias = variable.value_counts(normalize=True)\n",
    "    #Identifica las que están por debajo del criterio\n",
    "    temp = [cada for cada in frecuencias.loc[frecuencias < criterio].index.values]\n",
    "    #Las recodifica en 'OTROS'\n",
    "    temp2 = np.where(variable.isin(temp),'OTROS',variable)\n",
    "    #Devuelve el resultado\n",
    "    return(temp2)"
   ]
  },
  {
   "cell_type": "markdown",
   "id": "4205e067",
   "metadata": {},
   "source": [
    "##### Variables a imputar"
   ]
  },
  {
   "cell_type": "code",
   "execution_count": 75,
   "id": "ec35c874",
   "metadata": {},
   "outputs": [],
   "source": [
    "#Vamos a hacer una imputación de categorías raras en todas las variables porque hemos visto que en todas las hay\n",
    "var_agrupar_cat_raras = cat.columns.to_list()"
   ]
  },
  {
   "cell_type": "markdown",
   "id": "5eaca402",
   "metadata": {},
   "source": [
    "##### Aplicar"
   ]
  },
  {
   "cell_type": "code",
   "execution_count": 76,
   "id": "2b187bc7",
   "metadata": {},
   "outputs": [],
   "source": [
    "for variable in var_agrupar_cat_raras:\n",
    "    cat[variable] = agrupar_cat_raras(cat[variable],criterio = 0.02)"
   ]
  },
  {
   "cell_type": "code",
   "execution_count": 77,
   "id": "8ec1940b",
   "metadata": {},
   "outputs": [
    {
     "data": {
      "text/plain": [
       "ocupacion\n",
       "Unemployed              4710\n",
       "Working Professional     444\n",
       "Student                  133\n",
       "OTROS                     20\n",
       "Name: count, dtype: int64"
      ]
     },
     "execution_count": 77,
     "metadata": {},
     "output_type": "execute_result"
    }
   ],
   "source": [
    "cat.ocupacion.value_counts()"
   ]
  },
  {
   "cell_type": "code",
   "execution_count": 79,
   "id": "b8acfc95",
   "metadata": {},
   "outputs": [
    {
     "data": {
      "text/plain": [
       "origen\n",
       "Landing Page Submission    3407\n",
       "API                        1591\n",
       "Lead Add Form               272\n",
       "OTROS                        37\n",
       "Name: count, dtype: int64"
      ]
     },
     "execution_count": 79,
     "metadata": {},
     "output_type": "execute_result"
    }
   ],
   "source": [
    "cat.origen.value_counts()"
   ]
  },
  {
   "cell_type": "code",
   "execution_count": 80,
   "id": "da5ae92c",
   "metadata": {},
   "outputs": [
    {
     "data": {
      "text/plain": [
       "ult_actividad\n",
       "Email Opened               2044\n",
       "SMS Sent                   1601\n",
       "Page Visited on Website     440\n",
       "Converted to Lead           307\n",
       "OTROS                       290\n",
       "Chat Conversation           281\n",
       "Email Bounced               207\n",
       "Email Link Clicked          137\n",
       "Name: count, dtype: int64"
      ]
     },
     "execution_count": 80,
     "metadata": {},
     "output_type": "execute_result"
    }
   ],
   "source": [
    "cat.ult_actividad.value_counts()"
   ]
  },
  {
   "cell_type": "code",
   "execution_count": 44,
   "id": "74df441f",
   "metadata": {},
   "outputs": [
    {
     "data": {
      "text/plain": [
       "ambito\n",
       "Select                               1334\n",
       "Finance Management                    676\n",
       "Human Resource Management             560\n",
       "Marketing Management                  554\n",
       "OTROS                                 441\n",
       "Operations Management                 344\n",
       "Business Administration               270\n",
       "Supply Chain Management               253\n",
       "IT Projects Management                240\n",
       "Banking, Investment And Insurance     228\n",
       "Travel and Tourism                    143\n",
       "Media and Advertising                 136\n",
       "International Business                128\n",
       "Name: count, dtype: int64"
      ]
     },
     "execution_count": 44,
     "metadata": {},
     "output_type": "execute_result"
    }
   ],
   "source": [
    "cat.ambito.value_counts()"
   ]
  },
  {
   "cell_type": "code",
   "execution_count": 45,
   "id": "ef43899f",
   "metadata": {},
   "outputs": [
    {
     "data": {
      "text/plain": [
       "fuente\n",
       "Google            1987\n",
       "Direct Traffic    1803\n",
       "Organic Search     800\n",
       "Chat               311\n",
       "Reference          249\n",
       "OTROS              157\n",
       "Name: count, dtype: int64"
      ]
     },
     "execution_count": 45,
     "metadata": {},
     "output_type": "execute_result"
    }
   ],
   "source": [
    "cat.fuente.value_counts()"
   ]
  },
  {
   "cell_type": "markdown",
   "id": "db3a72a6",
   "metadata": {},
   "source": [
    "## 10. GESTIÓN DE NUMÉRICAS"
   ]
  },
  {
   "cell_type": "markdown",
   "id": "d65bd06a",
   "metadata": {},
   "source": [
    "### 10.1. Nulos"
   ]
  },
  {
   "cell_type": "markdown",
   "id": "e5ee8416",
   "metadata": {},
   "source": [
    "#### 10.1.1. Identificación"
   ]
  },
  {
   "cell_type": "code",
   "execution_count": 46,
   "id": "c9f054a3",
   "metadata": {
    "scrolled": true
   },
   "outputs": [
    {
     "data": {
      "text/plain": [
       "score_actividad          2315\n",
       "score_perfil             2315\n",
       "visitas_total              86\n",
       "paginas_vistas_visita      86\n",
       "compra                      0\n",
       "tiempo_en_site_total        0\n",
       "dtype: int64"
      ]
     },
     "execution_count": 46,
     "metadata": {},
     "output_type": "execute_result"
    }
   ],
   "source": [
    "num.isna().sum().sort_values(ascending = False)"
   ]
  },
  {
   "cell_type": "markdown",
   "id": "1b7cb2c4",
   "metadata": {},
   "source": [
    "#### 10.1.2. Corrección"
   ]
  },
  {
   "cell_type": "code",
   "execution_count": 47,
   "id": "497f5b6f",
   "metadata": {},
   "outputs": [
    {
     "name": "stdout",
     "output_type": "stream",
     "text": [
      "Mean: 14.082553475935828\n",
      "Median: 14.0\n"
     ]
    },
    {
     "data": {
      "image/png": "[encoded data removed]",
      "text/plain": [
       "<Figure size 640x480 with 1 Axes>"
      ]
     },
     "metadata": {},
     "output_type": "display_data"
    }
   ],
   "source": [
    "num.score_actividad.plot.density();\n",
    "print('Mean:',num.score_actividad.mean())\n",
    "print('Median:',num.score_actividad.median())"
   ]
  },
  {
   "cell_type": "code",
   "execution_count": 48,
   "id": "828bc4a1",
   "metadata": {},
   "outputs": [
    {
     "name": "stdout",
     "output_type": "stream",
     "text": [
      "Mean: 16.533088235294116\n",
      "Median: 17.0\n"
     ]
    },
    {
     "data": {
      "image/png": "[encoded data removed]",
      "text/plain": [
       "<Figure size 640x480 with 1 Axes>"
      ]
     },
     "metadata": {},
     "output_type": "display_data"
    }
   ],
   "source": [
    "num.score_perfil.plot.density();\n",
    "print('Mean:',num.score_perfil.mean())\n",
    "print('Median:',num.score_perfil.median())"
   ]
  },
  {
   "cell_type": "code",
   "execution_count": 49,
   "id": "08d87426",
   "metadata": {},
   "outputs": [
    {
     "name": "stdout",
     "output_type": "stream",
     "text": [
      "Mean: 4.205899253016663\n",
      "Median: 3.0\n"
     ]
    },
    {
     "data": {
      "image/png": "[encoded data removed]",
      "text/plain": [
       "<Figure size 640x480 with 1 Axes>"
      ]
     },
     "metadata": {},
     "output_type": "display_data"
    }
   ],
   "source": [
    "num.visitas_total.plot.density();\n",
    "print('Mean:',num.visitas_total.mean())\n",
    "print('Median:',num.visitas_total.median())"
   ]
  },
  {
   "cell_type": "code",
   "execution_count": 50,
   "id": "d50dd598",
   "metadata": {},
   "outputs": [
    {
     "name": "stdout",
     "output_type": "stream",
     "text": [
      "Mean: 2.8880080444359315\n",
      "Median: 2.5\n"
     ]
    },
    {
     "data": {
      "image/png": "[encoded data removed]",
      "text/plain": [
       "<Figure size 640x480 with 1 Axes>"
      ]
     },
     "metadata": {},
     "output_type": "display_data"
    }
   ],
   "source": [
    "num.paginas_vistas_visita.plot.density();\n",
    "print('Mean:',num.paginas_vistas_visita.mean())\n",
    "print('Median:',num.paginas_vistas_visita.median())"
   ]
  },
  {
   "cell_type": "markdown",
   "id": "48c76393",
   "metadata": {},
   "source": [
    "##### Eliminar la variable"
   ]
  },
  {
   "cell_type": "code",
   "execution_count": 51,
   "id": "ba078af2",
   "metadata": {},
   "outputs": [],
   "source": [
    "#num.drop(columns = 'num_contactos_otras_campanas',inplace = True)"
   ]
  },
  {
   "cell_type": "markdown",
   "id": "aab11eff",
   "metadata": {},
   "source": [
    "##### Eliminar registros"
   ]
  },
  {
   "cell_type": "markdown",
   "id": "fa00a59d",
   "metadata": {},
   "source": [
    "*Cuidado: Si se eliminan registros hay que eliminarlos tanto de cat como de num*"
   ]
  },
  {
   "cell_type": "code",
   "execution_count": 52,
   "id": "c5292f66",
   "metadata": {},
   "outputs": [],
   "source": [
    "criterio = 8 #Mínimo de variables SIN nulos por registro. Se elimina el registro si hay menos de esas variables sin nulos\n",
    "#cat.dropna(thresh=criterio, inplace=True)\n",
    "#num.dropna(thresh=criterio, inplace=True)"
   ]
  },
  {
   "cell_type": "markdown",
   "id": "214264cb",
   "metadata": {},
   "source": [
    "##### Imputar por la media"
   ]
  },
  {
   "cell_type": "markdown",
   "id": "1f927674",
   "metadata": {},
   "source": [
    "###### Variables a imputar"
   ]
  },
  {
   "cell_type": "code",
   "execution_count": 53,
   "id": "17c30954",
   "metadata": {},
   "outputs": [],
   "source": [
    "#var_imputar_media = ['score_perfil']"
   ]
  },
  {
   "cell_type": "markdown",
   "id": "ac2fbb2c",
   "metadata": {},
   "source": [
    "###### Funcion para imputar con la media"
   ]
  },
  {
   "cell_type": "code",
   "execution_count": 54,
   "id": "e8ffdb3d",
   "metadata": {},
   "outputs": [],
   "source": [
    "def imputar_media(variable):\n",
    "    if pd.api.types.is_integer_dtype(variable):\n",
    "        return(variable.fillna(int(variable.mean())))\n",
    "    else:\n",
    "        return(variable.fillna(variable.mean()))"
   ]
  },
  {
   "cell_type": "markdown",
   "id": "54407baa",
   "metadata": {},
   "source": [
    "###### Imputar con la media"
   ]
  },
  {
   "cell_type": "code",
   "execution_count": 55,
   "id": "605f7ad2",
   "metadata": {},
   "outputs": [],
   "source": [
    "#num[var_imputar_media] = num[var_imputar_media].apply(imputar_media)"
   ]
  },
  {
   "cell_type": "markdown",
   "id": "649c19f3",
   "metadata": {},
   "source": [
    "##### Imputar por la mediana"
   ]
  },
  {
   "cell_type": "markdown",
   "id": "d22ea297",
   "metadata": {},
   "source": [
    "###### Variables a imputar"
   ]
  },
  {
   "cell_type": "code",
   "execution_count": 56,
   "id": "37e4d7f6",
   "metadata": {},
   "outputs": [],
   "source": [
    "#Vamos a imputar por la mediana porque es el valor seguro que no le afecta el tipo de distribución a pesar de haber visto \n",
    "#que son distribuciones aproximadamente normales y lo hacemos sobre todas las variables por si en el futuro hubiera nulos\n",
    "#sobre alguna de las variables que no los tienen ahora mismo\n",
    "var_imputar_mediana = num.columns.to_list() "
   ]
  },
  {
   "cell_type": "markdown",
   "id": "432c371c",
   "metadata": {},
   "source": [
    "###### Funcion para imputar con la mediana"
   ]
  },
  {
   "cell_type": "code",
   "execution_count": 57,
   "id": "66679233",
   "metadata": {},
   "outputs": [],
   "source": [
    "def imputar_mediana(variable):\n",
    "    if pd.api.types.is_integer_dtype(variable):\n",
    "        return(variable.fillna(int(variable.median())))\n",
    "    else:\n",
    "        return(variable.fillna(variable.median()))"
   ]
  },
  {
   "cell_type": "markdown",
   "id": "70d7a1c5",
   "metadata": {},
   "source": [
    "###### Imputar con la mediana"
   ]
  },
  {
   "cell_type": "code",
   "execution_count": 58,
   "id": "887a4106",
   "metadata": {},
   "outputs": [],
   "source": [
    "num[var_imputar_mediana] = num[var_imputar_mediana].apply(imputar_mediana)"
   ]
  },
  {
   "cell_type": "code",
   "execution_count": 59,
   "id": "1bbddaad",
   "metadata": {},
   "outputs": [
    {
     "data": {
      "text/plain": [
       "compra                   0\n",
       "visitas_total            0\n",
       "tiempo_en_site_total     0\n",
       "paginas_vistas_visita    0\n",
       "score_actividad          0\n",
       "score_perfil             0\n",
       "dtype: int64"
      ]
     },
     "execution_count": 59,
     "metadata": {},
     "output_type": "execute_result"
    }
   ],
   "source": [
    "num.isna().sum().sort_values(ascending = False)"
   ]
  },
  {
   "cell_type": "markdown",
   "id": "82cb56e8",
   "metadata": {},
   "source": [
    "### 10.2. Atípicos"
   ]
  },
  {
   "cell_type": "markdown",
   "id": "760baf8c",
   "metadata": {},
   "source": [
    "#### 10.2.1. Por desviación típica"
   ]
  },
  {
   "cell_type": "markdown",
   "id": "4b508149",
   "metadata": {},
   "source": [
    "##### Identificación"
   ]
  },
  {
   "cell_type": "markdown",
   "id": "942da237",
   "metadata": {},
   "source": [
    "###### Función que devuelve los índices de los atípicos"
   ]
  },
  {
   "cell_type": "code",
   "execution_count": 60,
   "id": "8a81f494",
   "metadata": {},
   "outputs": [],
   "source": [
    "#Definir el número de desviaciones típicas\n",
    "num_desv_tip = 4\n",
    "\n",
    "def atipicos_desv_tip(variable, num_desv_tip = 4):\n",
    "    #sacamos los nulos por ahora\n",
    "    variable = variable.dropna()\n",
    "    #calculamos los límites\n",
    "    media = np.mean(variable)\n",
    "    sd = np.std(variable)\n",
    "    umbral = sd * num_desv_tip\n",
    "    lim_inf = media - umbral\n",
    "    lim_sup = media + umbral\n",
    "    #encontramos los índices de los que están fuera de los límites\n",
    "    indices = [indice for indice,valor in variable.items() if valor < lim_inf or valor > lim_sup]\n",
    "    return(indices)"
   ]
  },
  {
   "cell_type": "markdown",
   "id": "768e7398",
   "metadata": {},
   "source": [
    "###### Función que cuenta el número de atípicos"
   ]
  },
  {
   "cell_type": "code",
   "execution_count": 61,
   "id": "5c8f4462",
   "metadata": {},
   "outputs": [],
   "source": [
    "def conteo_atipicos(df,variable, num_desv_tip = 4):\n",
    "    atipicos = atipicos_desv_tip(df[variable], num_desv_tip)\n",
    "    return(df.loc[atipicos,variable].value_counts())"
   ]
  },
  {
   "cell_type": "markdown",
   "id": "5cd1e425",
   "metadata": {},
   "source": [
    "###### Variables a aplicar"
   ]
  },
  {
   "cell_type": "code",
   "execution_count": 62,
   "id": "cfbb3d88",
   "metadata": {},
   "outputs": [],
   "source": [
    "var_atipicos_dt = num.columns.to_list()"
   ]
  },
  {
   "cell_type": "markdown",
   "id": "ac400ced",
   "metadata": {},
   "source": [
    "###### Aplicar"
   ]
  },
  {
   "cell_type": "code",
   "execution_count": 63,
   "id": "c4b74e98",
   "metadata": {},
   "outputs": [
    {
     "name": "stdout",
     "output_type": "stream",
     "text": [
      "\n",
      "compra:\n",
      "\n",
      "Series([], Name: count, dtype: int64)\n",
      "\n",
      "visitas_total:\n",
      "\n",
      "visitas_total\n",
      "27     5\n",
      "29     2\n",
      "141    1\n",
      "74     1\n",
      "54     1\n",
      "115    1\n",
      "251    1\n",
      "28     1\n",
      "42     1\n",
      "Name: count, dtype: Int64\n",
      "\n",
      "tiempo_en_site_total:\n",
      "\n",
      "Series([], Name: count, dtype: int64)\n",
      "\n",
      "paginas_vistas_visita:\n",
      "\n",
      "paginas_vistas_visita\n",
      "11.00    12\n",
      "13.00     5\n",
      "14.00     5\n",
      "16.00     3\n",
      "12.00     3\n",
      "15.00     3\n",
      "12.33     1\n",
      "14.50     1\n",
      "11.50     1\n",
      "Name: count, dtype: int64\n",
      "\n",
      "score_actividad:\n",
      "\n",
      "score_actividad\n",
      "10.0    38\n",
      "9.0      7\n",
      "18.0     3\n",
      "8.0      3\n",
      "Name: count, dtype: int64\n",
      "\n",
      "score_perfil:\n",
      "\n",
      "score_perfil\n",
      "11.0    6\n",
      "Name: count, dtype: int64\n"
     ]
    }
   ],
   "source": [
    "for variable in var_atipicos_dt:\n",
    "    print('\\n' + variable + ':\\n')\n",
    "    print(conteo_atipicos(num,variable,num_desv_tip))"
   ]
  },
  {
   "cell_type": "markdown",
   "id": "b81e1153",
   "metadata": {},
   "source": [
    "Definimos los máximos para cada variable que marcaremos\n",
    "- visitas_total max: 50\n",
    "- tiempo_en_site_total max: No hay \n",
    "- paginas_vistas_visita max: 20  \n",
    "- score_actividad max:     \n",
    "- compra max:              \n",
    "- score_perfil max:"
   ]
  },
  {
   "cell_type": "markdown",
   "id": "5197aae9",
   "metadata": {},
   "source": [
    "##### Corrección"
   ]
  },
  {
   "cell_type": "markdown",
   "id": "2b9255dd",
   "metadata": {},
   "source": [
    "Eliminar los registros que tengan al menos un atípico en alguna de las variables indicadas (Si se eliminan registros hay que eliminarlos de cat y de num)"
   ]
  },
  {
   "cell_type": "markdown",
   "id": "18548d6d",
   "metadata": {},
   "source": [
    "###### Variables a aplicar"
   ]
  },
  {
   "cell_type": "code",
   "execution_count": 64,
   "id": "81e715d9",
   "metadata": {},
   "outputs": [],
   "source": [
    "var_atipicos_dt = []"
   ]
  },
  {
   "cell_type": "markdown",
   "id": "b995bf77",
   "metadata": {},
   "source": [
    "###### Aplicar"
   ]
  },
  {
   "cell_type": "code",
   "execution_count": 65,
   "id": "413fa5ea",
   "metadata": {},
   "outputs": [],
   "source": [
    "for variable in var_atipicos_dt:\n",
    "    cat.drop(atipicos_desv_tip(num[variable], num_desv_tip),axis = 0, inplace = True)\n",
    "    num.drop(atipicos_desv_tip(num[variable], num_desv_tip),axis = 0, inplace = True)"
   ]
  },
  {
   "cell_type": "markdown",
   "id": "47862bcf",
   "metadata": {},
   "source": [
    "#### 10.2.2. Por winsorización manual para una variable"
   ]
  },
  {
   "cell_type": "markdown",
   "id": "963a3881",
   "metadata": {},
   "source": [
    "##### Identificación"
   ]
  },
  {
   "cell_type": "markdown",
   "id": "af41a20d",
   "metadata": {},
   "source": [
    "###### Variable a analizar"
   ]
  },
  {
   "cell_type": "code",
   "execution_count": 66,
   "id": "f90db9dc",
   "metadata": {},
   "outputs": [],
   "source": [
    "#variable = 'variacion_tasa_empleo'"
   ]
  },
  {
   "cell_type": "markdown",
   "id": "e0332345",
   "metadata": {},
   "source": [
    "###### Comprobar el mínimo y máximo actual"
   ]
  },
  {
   "cell_type": "code",
   "execution_count": 67,
   "id": "64d5394b",
   "metadata": {},
   "outputs": [],
   "source": [
    "#num[variable].describe().loc[['min','max']]"
   ]
  },
  {
   "cell_type": "markdown",
   "id": "28d07312",
   "metadata": {},
   "source": [
    "##### Corrección"
   ]
  },
  {
   "cell_type": "markdown",
   "id": "fbea3a26",
   "metadata": {},
   "source": [
    "###### Definir el mínimo y máximo tolerable."
   ]
  },
  {
   "cell_type": "code",
   "execution_count": 68,
   "id": "c8b2d8dc",
   "metadata": {},
   "outputs": [],
   "source": [
    "#minimo = -20\n",
    "#maximo = 10"
   ]
  },
  {
   "cell_type": "markdown",
   "id": "be19a3d1",
   "metadata": {},
   "source": [
    "###### Aplicar"
   ]
  },
  {
   "cell_type": "code",
   "execution_count": 69,
   "id": "a607d0dd",
   "metadata": {},
   "outputs": [
    {
     "data": {
      "text/html": [
       "<div>\n",
       "<style scoped>\n",
       "    .dataframe tbody tr th:only-of-type {\n",
       "        vertical-align: middle;\n",
       "    }\n",
       "\n",
       "    .dataframe tbody tr th {\n",
       "        vertical-align: top;\n",
       "    }\n",
       "\n",
       "    .dataframe thead th {\n",
       "        text-align: right;\n",
       "    }\n",
       "</style>\n",
       "<table border=\"1\" class=\"dataframe\">\n",
       "  <thead>\n",
       "    <tr style=\"text-align: right;\">\n",
       "      <th></th>\n",
       "      <th>compra</th>\n",
       "      <th>visitas_total</th>\n",
       "      <th>tiempo_en_site_total</th>\n",
       "      <th>paginas_vistas_visita</th>\n",
       "      <th>score_actividad</th>\n",
       "      <th>score_perfil</th>\n",
       "    </tr>\n",
       "  </thead>\n",
       "  <tbody>\n",
       "    <tr>\n",
       "      <th>count</th>\n",
       "      <td>5307.000000</td>\n",
       "      <td>5307.0</td>\n",
       "      <td>5307.000000</td>\n",
       "      <td>5307.000000</td>\n",
       "      <td>5307.000000</td>\n",
       "      <td>5307.000000</td>\n",
       "    </tr>\n",
       "    <tr>\n",
       "      <th>mean</th>\n",
       "      <td>0.392689</td>\n",
       "      <td>4.113812</td>\n",
       "      <td>589.220275</td>\n",
       "      <td>2.881720</td>\n",
       "      <td>14.046542</td>\n",
       "      <td>16.736763</td>\n",
       "    </tr>\n",
       "    <tr>\n",
       "      <th>std</th>\n",
       "      <td>0.488395</td>\n",
       "      <td>3.658666</td>\n",
       "      <td>550.733106</td>\n",
       "      <td>1.957151</td>\n",
       "      <td>0.947700</td>\n",
       "      <td>1.419883</td>\n",
       "    </tr>\n",
       "    <tr>\n",
       "      <th>min</th>\n",
       "      <td>0.000000</td>\n",
       "      <td>0.0</td>\n",
       "      <td>0.000000</td>\n",
       "      <td>0.000000</td>\n",
       "      <td>8.000000</td>\n",
       "      <td>11.000000</td>\n",
       "    </tr>\n",
       "    <tr>\n",
       "      <th>25%</th>\n",
       "      <td>0.000000</td>\n",
       "      <td>2.0</td>\n",
       "      <td>128.000000</td>\n",
       "      <td>2.000000</td>\n",
       "      <td>14.000000</td>\n",
       "      <td>16.000000</td>\n",
       "    </tr>\n",
       "    <tr>\n",
       "      <th>50%</th>\n",
       "      <td>0.000000</td>\n",
       "      <td>3.0</td>\n",
       "      <td>350.000000</td>\n",
       "      <td>2.500000</td>\n",
       "      <td>14.000000</td>\n",
       "      <td>17.000000</td>\n",
       "    </tr>\n",
       "    <tr>\n",
       "      <th>75%</th>\n",
       "      <td>1.000000</td>\n",
       "      <td>5.0</td>\n",
       "      <td>1060.500000</td>\n",
       "      <td>4.000000</td>\n",
       "      <td>14.000000</td>\n",
       "      <td>17.000000</td>\n",
       "    </tr>\n",
       "    <tr>\n",
       "      <th>max</th>\n",
       "      <td>1.000000</td>\n",
       "      <td>50.0</td>\n",
       "      <td>2272.000000</td>\n",
       "      <td>16.000000</td>\n",
       "      <td>18.000000</td>\n",
       "      <td>20.000000</td>\n",
       "    </tr>\n",
       "  </tbody>\n",
       "</table>\n",
       "</div>"
      ],
      "text/plain": [
       "            compra  visitas_total  tiempo_en_site_total  \\\n",
       "count  5307.000000         5307.0           5307.000000   \n",
       "mean      0.392689       4.113812            589.220275   \n",
       "std       0.488395       3.658666            550.733106   \n",
       "min       0.000000            0.0              0.000000   \n",
       "25%       0.000000            2.0            128.000000   \n",
       "50%       0.000000            3.0            350.000000   \n",
       "75%       1.000000            5.0           1060.500000   \n",
       "max       1.000000           50.0           2272.000000   \n",
       "\n",
       "       paginas_vistas_visita  score_actividad  score_perfil  \n",
       "count            5307.000000      5307.000000   5307.000000  \n",
       "mean                2.881720        14.046542     16.736763  \n",
       "std                 1.957151         0.947700      1.419883  \n",
       "min                 0.000000         8.000000     11.000000  \n",
       "25%                 2.000000        14.000000     16.000000  \n",
       "50%                 2.500000        14.000000     17.000000  \n",
       "75%                 4.000000        14.000000     17.000000  \n",
       "max                16.000000        18.000000     20.000000  "
      ]
     },
     "execution_count": 69,
     "metadata": {},
     "output_type": "execute_result"
    }
   ],
   "source": [
    "#Como son mas de una variable con diferentes rangos, lo hacemos directamente sobre la línea de modificaciones\n",
    "num['visitas_total'] = num['visitas_total'].clip(0, 50)\n",
    "num['paginas_vistas_visita'] = num['paginas_vistas_visita'].clip(0, 20)\n",
    "\n",
    "num.describe()"
   ]
  },
  {
   "cell_type": "markdown",
   "id": "ec69099e",
   "metadata": {},
   "source": [
    "#### 10.2.3. Por winsorización automática para múltiples variables"
   ]
  },
  {
   "cell_type": "markdown",
   "id": "49b8433c",
   "metadata": {},
   "source": [
    "##### Variables a winsorizar."
   ]
  },
  {
   "cell_type": "code",
   "execution_count": 70,
   "id": "e4b6c723",
   "metadata": {},
   "outputs": [],
   "source": [
    "#var_winsorizar = ['edad','num_contactos_esta_campana']"
   ]
  },
  {
   "cell_type": "markdown",
   "id": "9478239d",
   "metadata": {},
   "source": [
    "##### Definir los percentiles mínimos y máximos."
   ]
  },
  {
   "cell_type": "code",
   "execution_count": 71,
   "id": "0596e25f",
   "metadata": {},
   "outputs": [],
   "source": [
    "#p_min = 0.01\n",
    "#p_max = 0.99"
   ]
  },
  {
   "cell_type": "markdown",
   "id": "878af32b",
   "metadata": {},
   "source": [
    "##### Aplicar"
   ]
  },
  {
   "cell_type": "code",
   "execution_count": null,
   "id": "b0317b54",
   "metadata": {},
   "outputs": [],
   "source": [
    "#Lo comentamos porque no vamos a aplicar la función\n",
    "'''# Winsorización automática para cada variable\n",
    "for variable in var_winsorizar:\n",
    "    print(f\"Procesando la variable: {variable}\")\n",
    "    \n",
    "    # Calcula los cuantiles para cada variable\n",
    "    lower_quantile = num[variable].quantile(p_min)\n",
    "    upper_quantile = num[variable].quantile(p_max)\n",
    "    \n",
    "    # Si la columna es de tipo Int64, redondea los cuantiles a enteros\n",
    "    if pd.api.types.is_integer_dtype(num[variable]):\n",
    "        lower_quantile = int(round(lower_quantile))\n",
    "        upper_quantile = int(round(upper_quantile))\n",
    "        print(f\"Cuantiles redondeados para la variable de tipo Int64 '{variable}': {lower_quantile}, {upper_quantile}\")\n",
    "    else:\n",
    "        print(f\"Cuantiles para la variable de tipo Float '{variable}': {lower_quantile}, {upper_quantile}\")\n",
    "    \n",
    "    # Aplica la winsorización utilizando los cuantiles como límites\n",
    "    num[variable] = num[variable].clip(lower=lower_quantile, upper=upper_quantile)\n",
    "\n",
    "    # Imprimir los resultados después de la winsorización\n",
    "    print(f\"Resultados después de la winsorización para la variable '{variable}':\")\n",
    "    print(num[variable].describe())\n",
    "'''"
   ]
  },
  {
   "cell_type": "markdown",
   "id": "0f6b1e4a",
   "metadata": {},
   "source": [
    "## 11. GUARDAR DATASETS TRAS CALIDAD DE DATOS"
   ]
  },
  {
   "cell_type": "code",
   "execution_count": 72,
   "id": "cdd96931",
   "metadata": {},
   "outputs": [
    {
     "name": "stdout",
     "output_type": "stream",
     "text": [
      "cat: (5307, 12)\n",
      "num: (5307, 6)\n"
     ]
    }
   ],
   "source": [
    "#Comprobamos el tamaño de cat y num que deben tener el mismo número de registros\n",
    "print('cat:', cat.shape)\n",
    "print('num:', num.shape)"
   ]
  },
  {
   "cell_type": "markdown",
   "id": "1e211b09",
   "metadata": {},
   "source": [
    "Guarda los avances en df, cat y num con un sufijo para poder guardar o recuperar avances del proyecto.\n",
    "\n",
    "En formato pickle para no perder las modificaciones de metadatos."
   ]
  },
  {
   "cell_type": "markdown",
   "id": "abb12eef",
   "metadata": {},
   "source": [
    "### 11.1. Definir los nombres de los archivos"
   ]
  },
  {
   "cell_type": "code",
   "execution_count": 73,
   "id": "f83c6f26",
   "metadata": {},
   "outputs": [],
   "source": [
    "ruta_trabajo = ruta_proyecto + '/02_Datos/03_Trabajo/' + 'trabajo_resultado_calidad.pickle'\n",
    "ruta_cat = ruta_proyecto + '/02_Datos/03_Trabajo/' + 'cat_resultado_calidad.pickle'\n",
    "ruta_num = ruta_proyecto + '/02_Datos/03_Trabajo/' + 'num_resultado_calidad.pickle'"
   ]
  },
  {
   "cell_type": "markdown",
   "id": "1699f284",
   "metadata": {},
   "source": [
    "### 11.2. Guardar los archivos"
   ]
  },
  {
   "cell_type": "code",
   "execution_count": 74,
   "id": "6731887a",
   "metadata": {},
   "outputs": [],
   "source": [
    "df.to_pickle(ruta_trabajo)\n",
    "cat.to_pickle(ruta_cat)\n",
    "num.to_pickle(ruta_num)"
   ]
  },
  {
   "cell_type": "code",
   "execution_count": null,
   "id": "e48b1d17",
   "metadata": {},
   "outputs": [],
   "source": []
  }
 ],
 "metadata": {
  "kernelspec": {
   "display_name": "Python 3 (ipykernel)",
   "language": "python",
   "name": "python3"
  },
  "language_info": {
   "codemirror_mode": {
    "name": "ipython",
    "version": 3
   },
   "file_extension": ".py",
   "mimetype": "text/x-python",
   "name": "python",
   "nbconvert_exporter": "python",
   "pygments_lexer": "ipython3",
   "version": "3.11.11"
  },
  "toc": {
   "base_numbering": 1,
   "nav_menu": {},
   "number_sections": true,
   "sideBar": true,
   "skip_h1_title": false,
   "title_cell": "Table of Contents",
   "title_sidebar": "Contents",
   "toc_cell": false,
   "toc_position": {
    "height": "calc(100% - 180px)",
    "left": "10px",
    "top": "150px",
    "width": "406.493px"
   },
   "toc_section_display": true,
   "toc_window_display": false
  },
  "varInspector": {
   "cols": {
    "lenName": 16,
    "lenType": 16,
    "lenVar": 40
   },
   "kernels_config": {
    "python": {
     "delete_cmd_postfix": "",
     "delete_cmd_prefix": "del ",
     "library": "var_list.py",
     "varRefreshCmd": "print(var_dic_list())"
    },
    "r": {
     "delete_cmd_postfix": ") ",
     "delete_cmd_prefix": "rm(",
     "library": "var_list.r",
     "varRefreshCmd": "cat(var_dic_list()) "
    }
   },
   "position": {
    "height": "546.85px",
    "left": "680.75px",
    "right": "20px",
    "top": "118px",
    "width": "350px"
   },
   "types_to_exclude": [
    "module",
    "function",
    "builtin_function_or_method",
    "instance",
    "_Feature"
   ],
   "window_display": false
  }
 },
 "nbformat": 4,
 "nbformat_minor": 5
}
